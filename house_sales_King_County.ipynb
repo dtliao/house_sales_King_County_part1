{
 "cells": [
  {
   "cell_type": "markdown",
   "metadata": {},
   "source": [
    "#### Dataset: https://www.kaggle.com/harlfoxem/housesalesprediction"
   ]
  },
  {
   "cell_type": "markdown",
   "metadata": {},
   "source": [
    "<div class=\"alert alert-block alert-info\">\n",
    "<b><font size=\"4\"> Importing the Necessary Libraries</font></b>\n",
    "</div>"
   ]
  },
  {
   "cell_type": "code",
   "execution_count": 1,
   "metadata": {},
   "outputs": [],
   "source": [
    "import pandas as pd\n",
    "import numpy as np\n",
    "import matplotlib.pyplot as plt\n",
    "import seaborn as sns\n",
    "%matplotlib inline\n",
    "import warnings\n",
    "warnings.filterwarnings('default')\n",
    "# import pandas_profiling as pp # pip3 install pandas-profiling\n",
    "# from IPython.core.display import display,HTML\n",
    "# display(HTML(\"<style>.container{width:100% !important;}</style>\"))\n",
    "from IPython.core.interactiveshell import InteractiveShell\n",
    "InteractiveShell.ast_node_interactivity = \"all\""
   ]
  },
  {
   "cell_type": "markdown",
   "metadata": {},
   "source": [
    "<div class=\"alert alert-block alert-info\">\n",
    "<b><font size=\"4\"> Data Acquisition & Exploration</font></b>\n",
    "</div>"
   ]
  },
  {
   "cell_type": "code",
   "execution_count": 709,
   "metadata": {},
   "outputs": [
    {
     "data": {
      "text/html": [
       "<div>\n",
       "<style scoped>\n",
       "    .dataframe tbody tr th:only-of-type {\n",
       "        vertical-align: middle;\n",
       "    }\n",
       "\n",
       "    .dataframe tbody tr th {\n",
       "        vertical-align: top;\n",
       "    }\n",
       "\n",
       "    .dataframe thead th {\n",
       "        text-align: right;\n",
       "    }\n",
       "</style>\n",
       "<table border=\"1\" class=\"dataframe\">\n",
       "  <thead>\n",
       "    <tr style=\"text-align: right;\">\n",
       "      <th></th>\n",
       "      <th>id</th>\n",
       "      <th>date</th>\n",
       "      <th>price</th>\n",
       "      <th>bedrooms</th>\n",
       "      <th>bathrooms</th>\n",
       "      <th>sqft_living</th>\n",
       "      <th>sqft_lot</th>\n",
       "      <th>floors</th>\n",
       "      <th>waterfront</th>\n",
       "      <th>view</th>\n",
       "      <th>...</th>\n",
       "      <th>grade</th>\n",
       "      <th>sqft_above</th>\n",
       "      <th>sqft_basement</th>\n",
       "      <th>yr_built</th>\n",
       "      <th>yr_renovated</th>\n",
       "      <th>zipcode</th>\n",
       "      <th>lat</th>\n",
       "      <th>long</th>\n",
       "      <th>sqft_living15</th>\n",
       "      <th>sqft_lot15</th>\n",
       "    </tr>\n",
       "  </thead>\n",
       "  <tbody>\n",
       "    <tr>\n",
       "      <th>0</th>\n",
       "      <td>7129300520</td>\n",
       "      <td>20141013T000000</td>\n",
       "      <td>221900.0</td>\n",
       "      <td>3</td>\n",
       "      <td>1.00</td>\n",
       "      <td>1180</td>\n",
       "      <td>5650</td>\n",
       "      <td>1.0</td>\n",
       "      <td>0</td>\n",
       "      <td>0</td>\n",
       "      <td>...</td>\n",
       "      <td>7</td>\n",
       "      <td>1180</td>\n",
       "      <td>0</td>\n",
       "      <td>1955</td>\n",
       "      <td>0</td>\n",
       "      <td>98178</td>\n",
       "      <td>47.5112</td>\n",
       "      <td>-122.257</td>\n",
       "      <td>1340</td>\n",
       "      <td>5650</td>\n",
       "    </tr>\n",
       "    <tr>\n",
       "      <th>1</th>\n",
       "      <td>6414100192</td>\n",
       "      <td>20141209T000000</td>\n",
       "      <td>538000.0</td>\n",
       "      <td>3</td>\n",
       "      <td>2.25</td>\n",
       "      <td>2570</td>\n",
       "      <td>7242</td>\n",
       "      <td>2.0</td>\n",
       "      <td>0</td>\n",
       "      <td>0</td>\n",
       "      <td>...</td>\n",
       "      <td>7</td>\n",
       "      <td>2170</td>\n",
       "      <td>400</td>\n",
       "      <td>1951</td>\n",
       "      <td>1991</td>\n",
       "      <td>98125</td>\n",
       "      <td>47.7210</td>\n",
       "      <td>-122.319</td>\n",
       "      <td>1690</td>\n",
       "      <td>7639</td>\n",
       "    </tr>\n",
       "    <tr>\n",
       "      <th>2</th>\n",
       "      <td>5631500400</td>\n",
       "      <td>20150225T000000</td>\n",
       "      <td>180000.0</td>\n",
       "      <td>2</td>\n",
       "      <td>1.00</td>\n",
       "      <td>770</td>\n",
       "      <td>10000</td>\n",
       "      <td>1.0</td>\n",
       "      <td>0</td>\n",
       "      <td>0</td>\n",
       "      <td>...</td>\n",
       "      <td>6</td>\n",
       "      <td>770</td>\n",
       "      <td>0</td>\n",
       "      <td>1933</td>\n",
       "      <td>0</td>\n",
       "      <td>98028</td>\n",
       "      <td>47.7379</td>\n",
       "      <td>-122.233</td>\n",
       "      <td>2720</td>\n",
       "      <td>8062</td>\n",
       "    </tr>\n",
       "    <tr>\n",
       "      <th>3</th>\n",
       "      <td>2487200875</td>\n",
       "      <td>20141209T000000</td>\n",
       "      <td>604000.0</td>\n",
       "      <td>4</td>\n",
       "      <td>3.00</td>\n",
       "      <td>1960</td>\n",
       "      <td>5000</td>\n",
       "      <td>1.0</td>\n",
       "      <td>0</td>\n",
       "      <td>0</td>\n",
       "      <td>...</td>\n",
       "      <td>7</td>\n",
       "      <td>1050</td>\n",
       "      <td>910</td>\n",
       "      <td>1965</td>\n",
       "      <td>0</td>\n",
       "      <td>98136</td>\n",
       "      <td>47.5208</td>\n",
       "      <td>-122.393</td>\n",
       "      <td>1360</td>\n",
       "      <td>5000</td>\n",
       "    </tr>\n",
       "    <tr>\n",
       "      <th>4</th>\n",
       "      <td>1954400510</td>\n",
       "      <td>20150218T000000</td>\n",
       "      <td>510000.0</td>\n",
       "      <td>3</td>\n",
       "      <td>2.00</td>\n",
       "      <td>1680</td>\n",
       "      <td>8080</td>\n",
       "      <td>1.0</td>\n",
       "      <td>0</td>\n",
       "      <td>0</td>\n",
       "      <td>...</td>\n",
       "      <td>8</td>\n",
       "      <td>1680</td>\n",
       "      <td>0</td>\n",
       "      <td>1987</td>\n",
       "      <td>0</td>\n",
       "      <td>98074</td>\n",
       "      <td>47.6168</td>\n",
       "      <td>-122.045</td>\n",
       "      <td>1800</td>\n",
       "      <td>7503</td>\n",
       "    </tr>\n",
       "  </tbody>\n",
       "</table>\n",
       "<p>5 rows × 21 columns</p>\n",
       "</div>"
      ],
      "text/plain": [
       "           id             date     price  bedrooms  bathrooms  sqft_living  \\\n",
       "0  7129300520  20141013T000000  221900.0         3       1.00         1180   \n",
       "1  6414100192  20141209T000000  538000.0         3       2.25         2570   \n",
       "2  5631500400  20150225T000000  180000.0         2       1.00          770   \n",
       "3  2487200875  20141209T000000  604000.0         4       3.00         1960   \n",
       "4  1954400510  20150218T000000  510000.0         3       2.00         1680   \n",
       "\n",
       "   sqft_lot  floors  waterfront  view  ...  grade  sqft_above  sqft_basement  \\\n",
       "0      5650     1.0           0     0  ...      7        1180              0   \n",
       "1      7242     2.0           0     0  ...      7        2170            400   \n",
       "2     10000     1.0           0     0  ...      6         770              0   \n",
       "3      5000     1.0           0     0  ...      7        1050            910   \n",
       "4      8080     1.0           0     0  ...      8        1680              0   \n",
       "\n",
       "   yr_built  yr_renovated  zipcode      lat     long  sqft_living15  \\\n",
       "0      1955             0    98178  47.5112 -122.257           1340   \n",
       "1      1951          1991    98125  47.7210 -122.319           1690   \n",
       "2      1933             0    98028  47.7379 -122.233           2720   \n",
       "3      1965             0    98136  47.5208 -122.393           1360   \n",
       "4      1987             0    98074  47.6168 -122.045           1800   \n",
       "\n",
       "   sqft_lot15  \n",
       "0        5650  \n",
       "1        7639  \n",
       "2        8062  \n",
       "3        5000  \n",
       "4        7503  \n",
       "\n",
       "[5 rows x 21 columns]"
      ]
     },
     "execution_count": 709,
     "metadata": {},
     "output_type": "execute_result"
    }
   ],
   "source": [
    "df = pd.read_csv(\"kc_house_data.csv\")\n",
    "df.head()"
   ]
  },
  {
   "cell_type": "code",
   "execution_count": 710,
   "metadata": {},
   "outputs": [
    {
     "name": "stdout",
     "output_type": "stream",
     "text": [
      "<class 'pandas.core.frame.DataFrame'>\n",
      "RangeIndex: 21613 entries, 0 to 21612\n",
      "Data columns (total 21 columns):\n",
      "id               21613 non-null int64\n",
      "date             21613 non-null object\n",
      "price            21613 non-null float64\n",
      "bedrooms         21613 non-null int64\n",
      "bathrooms        21613 non-null float64\n",
      "sqft_living      21613 non-null int64\n",
      "sqft_lot         21613 non-null int64\n",
      "floors           21613 non-null float64\n",
      "waterfront       21613 non-null int64\n",
      "view             21613 non-null int64\n",
      "condition        21613 non-null int64\n",
      "grade            21613 non-null int64\n",
      "sqft_above       21613 non-null int64\n",
      "sqft_basement    21613 non-null int64\n",
      "yr_built         21613 non-null int64\n",
      "yr_renovated     21613 non-null int64\n",
      "zipcode          21613 non-null int64\n",
      "lat              21613 non-null float64\n",
      "long             21613 non-null float64\n",
      "sqft_living15    21613 non-null int64\n",
      "sqft_lot15       21613 non-null int64\n",
      "dtypes: float64(5), int64(15), object(1)\n",
      "memory usage: 3.5+ MB\n"
     ]
    }
   ],
   "source": [
    "df.info()"
   ]
  },
  {
   "cell_type": "markdown",
   "metadata": {},
   "source": [
    "<div class=\"alert alert-block alert-info\">\n",
    "<b><font size=\"4\"> Filling missing values across the dataset</font></b>\n",
    "</div>"
   ]
  },
  {
   "cell_type": "code",
   "execution_count": 711,
   "metadata": {},
   "outputs": [],
   "source": [
    "from numpy import random as rn\n",
    "def rand():\n",
    "    p = 0.015\n",
    "    data =rn.random(len(df))\n",
    "    return list(map(lambda x: x < p, data))\n",
    "df.loc[rand(), 'date'] = None\n",
    "df.loc[rand(), 'waterfront'] = None\n",
    "df.loc[rand(), 'yr_built'] = None\n",
    "df.loc[rand(), 'yr_renovated'] = None\n",
    "df.loc[rand(), 'bathrooms'] = None"
   ]
  },
  {
   "cell_type": "code",
   "execution_count": 712,
   "metadata": {},
   "outputs": [
    {
     "data": {
      "text/plain": [
       "(21613, 21)"
      ]
     },
     "execution_count": 712,
     "metadata": {},
     "output_type": "execute_result"
    }
   ],
   "source": [
    "df.shape"
   ]
  },
  {
   "cell_type": "code",
   "execution_count": 714,
   "metadata": {},
   "outputs": [],
   "source": [
    "# from pandas_profiling import ProfileReport\n",
    "# profile = ProfileReport(df, title='Pandas Profiling Report', html={'style':{'full_width':True}})\n",
    "# profile"
   ]
  },
  {
   "cell_type": "markdown",
   "metadata": {},
   "source": [
    "###### The above code upon reopening may not display the output report, as we need to rerun the code again as it is expect behaviour"
   ]
  },
  {
   "cell_type": "code",
   "execution_count": 715,
   "metadata": {},
   "outputs": [],
   "source": [
    "# profile.to_file(output_file=\"datanalysis.html\")# saving the profile report"
   ]
  },
  {
   "cell_type": "markdown",
   "metadata": {},
   "source": [
    "<div class=\"alert alert-block alert-info\">\n",
    "<b><font size=\"4\"> Exploratory Data Analysis</font></b>\n",
    "</div>"
   ]
  },
  {
   "cell_type": "code",
   "execution_count": 8,
   "metadata": {},
   "outputs": [],
   "source": [
    "#identifying insignificant Features\n",
    "def coefpval(x,y):\n",
    "    x=x[x.corr().columns]\n",
    "    from scipy import stats\n",
    "    ls=[]\n",
    "    for i in range(x.shape[1]):\n",
    "        ls.append(stats.pearsonr(x.iloc[:,i], y)  )\n",
    "    copv=pd.DataFrame(ls,index=x.columns,columns= ['Pearson-Coeff','P-Value'])\n",
    "    copv['P-Ind'] = pd.cut(copv['P-Value'], bins =[0, 0.001, 0.05,0.1, 1.0], labels=['Strong','Moderate','Weak','Insignificant'], include_lowest=True )\n",
    "    copv['C-Ind'] = pd.cut(copv['Pearson-Coeff'], bins =[-1.0,0, 1.0], labels=['Negative','Positive'], include_lowest=True )\n",
    "    \n",
    "    return copv\n",
    "\n",
    "# Function of multi-Correlation\n",
    "def multicorrelation(data, threshold=0.80):\n",
    "    col_corr = set()  # Set of all the names of deleted columns\n",
    "    corr_matrix = data.corr()\n",
    "    \n",
    "    print('  \\n    Correlation with more than :',threshold)\n",
    "    print('\\n\\nCorr Value',\"\\t\",'Fearture1', \"\\t\\t\\t\\t\", 'Feature 2')\n",
    "    for i in range(len(corr_matrix.columns)):\n",
    "        for j in range(i):\n",
    "            if (abs(corr_matrix.iloc[i, j]) >= threshold) and (corr_matrix.columns[j] not in col_corr):\n",
    "                print(f'{corr_matrix.iloc[i, j].round(5):<{16}} {corr_matrix.columns[i]:{39}} {corr_matrix.columns[j]:{40}}')\n",
    "                     \n",
    "    print('\\n\\n The above mentioned correlations only are present in the given Dataset')"
   ]
  },
  {
   "cell_type": "code",
   "execution_count": 9,
   "metadata": {},
   "outputs": [],
   "source": [
    "x = df.dropna().drop('price',axis=1)\n",
    "y = df.dropna()['price']"
   ]
  },
  {
   "cell_type": "code",
   "execution_count": 10,
   "metadata": {},
   "outputs": [
    {
     "data": {
      "text/html": [
       "<div>\n",
       "<style scoped>\n",
       "    .dataframe tbody tr th:only-of-type {\n",
       "        vertical-align: middle;\n",
       "    }\n",
       "\n",
       "    .dataframe tbody tr th {\n",
       "        vertical-align: top;\n",
       "    }\n",
       "\n",
       "    .dataframe thead th {\n",
       "        text-align: right;\n",
       "    }\n",
       "</style>\n",
       "<table border=\"1\" class=\"dataframe\">\n",
       "  <thead>\n",
       "    <tr style=\"text-align: right;\">\n",
       "      <th></th>\n",
       "      <th>Pearson-Coeff</th>\n",
       "      <th>P-Value</th>\n",
       "      <th>P-Ind</th>\n",
       "      <th>C-Ind</th>\n",
       "    </tr>\n",
       "  </thead>\n",
       "  <tbody>\n",
       "    <tr>\n",
       "      <th>id</th>\n",
       "      <td>-0.019341</td>\n",
       "      <td>6.156249e-03</td>\n",
       "      <td>Moderate</td>\n",
       "      <td>Negative</td>\n",
       "    </tr>\n",
       "    <tr>\n",
       "      <th>bedrooms</th>\n",
       "      <td>0.305980</td>\n",
       "      <td>0.000000e+00</td>\n",
       "      <td>Strong</td>\n",
       "      <td>Positive</td>\n",
       "    </tr>\n",
       "    <tr>\n",
       "      <th>bathrooms</th>\n",
       "      <td>0.525960</td>\n",
       "      <td>0.000000e+00</td>\n",
       "      <td>Strong</td>\n",
       "      <td>Positive</td>\n",
       "    </tr>\n",
       "    <tr>\n",
       "      <th>sqft_living</th>\n",
       "      <td>0.702280</td>\n",
       "      <td>0.000000e+00</td>\n",
       "      <td>Strong</td>\n",
       "      <td>Positive</td>\n",
       "    </tr>\n",
       "    <tr>\n",
       "      <th>sqft_lot</th>\n",
       "      <td>0.093982</td>\n",
       "      <td>1.372732e-40</td>\n",
       "      <td>Strong</td>\n",
       "      <td>Positive</td>\n",
       "    </tr>\n",
       "    <tr>\n",
       "      <th>floors</th>\n",
       "      <td>0.256651</td>\n",
       "      <td>3.870016e-299</td>\n",
       "      <td>Strong</td>\n",
       "      <td>Positive</td>\n",
       "    </tr>\n",
       "    <tr>\n",
       "      <th>waterfront</th>\n",
       "      <td>0.270203</td>\n",
       "      <td>0.000000e+00</td>\n",
       "      <td>Strong</td>\n",
       "      <td>Positive</td>\n",
       "    </tr>\n",
       "    <tr>\n",
       "      <th>view</th>\n",
       "      <td>0.398886</td>\n",
       "      <td>0.000000e+00</td>\n",
       "      <td>Strong</td>\n",
       "      <td>Positive</td>\n",
       "    </tr>\n",
       "    <tr>\n",
       "      <th>condition</th>\n",
       "      <td>0.036705</td>\n",
       "      <td>1.994135e-07</td>\n",
       "      <td>Strong</td>\n",
       "      <td>Positive</td>\n",
       "    </tr>\n",
       "    <tr>\n",
       "      <th>grade</th>\n",
       "      <td>0.668080</td>\n",
       "      <td>0.000000e+00</td>\n",
       "      <td>Strong</td>\n",
       "      <td>Positive</td>\n",
       "    </tr>\n",
       "    <tr>\n",
       "      <th>sqft_above</th>\n",
       "      <td>0.605173</td>\n",
       "      <td>0.000000e+00</td>\n",
       "      <td>Strong</td>\n",
       "      <td>Positive</td>\n",
       "    </tr>\n",
       "    <tr>\n",
       "      <th>sqft_basement</th>\n",
       "      <td>0.325491</td>\n",
       "      <td>0.000000e+00</td>\n",
       "      <td>Strong</td>\n",
       "      <td>Positive</td>\n",
       "    </tr>\n",
       "    <tr>\n",
       "      <th>yr_built</th>\n",
       "      <td>0.051780</td>\n",
       "      <td>2.169781e-13</td>\n",
       "      <td>Strong</td>\n",
       "      <td>Positive</td>\n",
       "    </tr>\n",
       "    <tr>\n",
       "      <th>yr_renovated</th>\n",
       "      <td>0.126817</td>\n",
       "      <td>1.086208e-72</td>\n",
       "      <td>Strong</td>\n",
       "      <td>Positive</td>\n",
       "    </tr>\n",
       "    <tr>\n",
       "      <th>zipcode</th>\n",
       "      <td>-0.050207</td>\n",
       "      <td>1.121232e-12</td>\n",
       "      <td>Strong</td>\n",
       "      <td>Negative</td>\n",
       "    </tr>\n",
       "    <tr>\n",
       "      <th>lat</th>\n",
       "      <td>0.307344</td>\n",
       "      <td>0.000000e+00</td>\n",
       "      <td>Strong</td>\n",
       "      <td>Positive</td>\n",
       "    </tr>\n",
       "    <tr>\n",
       "      <th>long</th>\n",
       "      <td>0.022148</td>\n",
       "      <td>1.707344e-03</td>\n",
       "      <td>Moderate</td>\n",
       "      <td>Positive</td>\n",
       "    </tr>\n",
       "    <tr>\n",
       "      <th>sqft_living15</th>\n",
       "      <td>0.583422</td>\n",
       "      <td>0.000000e+00</td>\n",
       "      <td>Strong</td>\n",
       "      <td>Positive</td>\n",
       "    </tr>\n",
       "    <tr>\n",
       "      <th>sqft_lot15</th>\n",
       "      <td>0.085160</td>\n",
       "      <td>1.313691e-33</td>\n",
       "      <td>Strong</td>\n",
       "      <td>Positive</td>\n",
       "    </tr>\n",
       "  </tbody>\n",
       "</table>\n",
       "</div>"
      ],
      "text/plain": [
       "               Pearson-Coeff        P-Value     P-Ind     C-Ind\n",
       "id                 -0.019341   6.156249e-03  Moderate  Negative\n",
       "bedrooms            0.305980   0.000000e+00    Strong  Positive\n",
       "bathrooms           0.525960   0.000000e+00    Strong  Positive\n",
       "sqft_living         0.702280   0.000000e+00    Strong  Positive\n",
       "sqft_lot            0.093982   1.372732e-40    Strong  Positive\n",
       "floors              0.256651  3.870016e-299    Strong  Positive\n",
       "waterfront          0.270203   0.000000e+00    Strong  Positive\n",
       "view                0.398886   0.000000e+00    Strong  Positive\n",
       "condition           0.036705   1.994135e-07    Strong  Positive\n",
       "grade               0.668080   0.000000e+00    Strong  Positive\n",
       "sqft_above          0.605173   0.000000e+00    Strong  Positive\n",
       "sqft_basement       0.325491   0.000000e+00    Strong  Positive\n",
       "yr_built            0.051780   2.169781e-13    Strong  Positive\n",
       "yr_renovated        0.126817   1.086208e-72    Strong  Positive\n",
       "zipcode            -0.050207   1.121232e-12    Strong  Negative\n",
       "lat                 0.307344   0.000000e+00    Strong  Positive\n",
       "long                0.022148   1.707344e-03  Moderate  Positive\n",
       "sqft_living15       0.583422   0.000000e+00    Strong  Positive\n",
       "sqft_lot15          0.085160   1.313691e-33    Strong  Positive"
      ]
     },
     "metadata": {},
     "output_type": "display_data"
    }
   ],
   "source": [
    "display(coefpval(x,y))"
   ]
  },
  {
   "cell_type": "markdown",
   "metadata": {},
   "source": [
    "From the above results we can see that only `id` are moderate relationship with the Target variable `price`"
   ]
  },
  {
   "cell_type": "code",
   "execution_count": 11,
   "metadata": {},
   "outputs": [
    {
     "name": "stdout",
     "output_type": "stream",
     "text": [
      "  \n",
      "    Correlation with more than : 0.5\n",
      "\n",
      "\n",
      "Corr Value \t Fearture1 \t\t\t\t Feature 2\n",
      "0.52592          bathrooms                               price                                   \n",
      "0.51559          bathrooms                               bedrooms                                \n",
      "0.70204          sqft_living                             price                                   \n",
      "0.57667          sqft_living                             bedrooms                                \n",
      "0.75501          sqft_living                             bathrooms                               \n",
      "0.50213          floors                                  bathrooms                               \n",
      "0.66743          grade                                   price                                   \n",
      "0.66493          grade                                   bathrooms                               \n",
      "0.7627           grade                                   sqft_living                             \n",
      "0.60557          sqft_above                              price                                   \n",
      "0.68575          sqft_above                              bathrooms                               \n",
      "0.8766           sqft_above                              sqft_living                             \n",
      "0.52388          sqft_above                              floors                                  \n",
      "0.75592          sqft_above                              grade                                   \n",
      "0.50591          yr_built                                bathrooms                               \n",
      "-0.56407         long                                    zipcode                                 \n",
      "0.58538          sqft_living15                           price                                   \n",
      "0.56913          sqft_living15                           bathrooms                               \n",
      "0.75642          sqft_living15                           sqft_living                             \n",
      "0.7132           sqft_living15                           grade                                   \n",
      "0.73187          sqft_living15                           sqft_above                              \n",
      "0.71856          sqft_lot15                              sqft_lot                                \n",
      "\n",
      "\n",
      " The above mentioned correlations only are present in the given Dataset\n"
     ]
    }
   ],
   "source": [
    "multicorrelation(df,threshold=0.5)"
   ]
  },
  {
   "cell_type": "code",
   "execution_count": 12,
   "metadata": {},
   "outputs": [
    {
     "data": {
      "text/plain": [
       "<matplotlib.axes._subplots.AxesSubplot at 0x107056e48>"
      ]
     },
     "execution_count": 12,
     "metadata": {},
     "output_type": "execute_result"
    },
    {
     "data": {
      "image/png": "[encoded data removed]",
      "text/plain": [
       "<Figure size 720x576 with 2 Axes>"
      ]
     },
     "metadata": {},
     "output_type": "display_data"
    }
   ],
   "source": [
    "plt.figure(figsize=(10,8))\n",
    "sns.heatmap(df.corr(),linecolor='white',linewidths=1,annot=True)"
   ]
  },
  {
   "cell_type": "code",
   "execution_count": 13,
   "metadata": {},
   "outputs": [
    {
     "data": {
      "image/png": "[encoded data removed]",
      "text/plain": [
       "<Figure size 1080x576 with 1 Axes>"
      ]
     },
     "metadata": {},
     "output_type": "display_data"
    }
   ],
   "source": [
    "plt.figure(figsize=(15,8))\n",
    "sns.distplot(df['price'])\n",
    "plt.xlabel('Price $',fontsize=15)\n",
    "plt.title('\\n\\nPrice Distribution\\n',fontsize=18)\n",
    "plt.show()"
   ]
  },
  {
   "cell_type": "code",
   "execution_count": 14,
   "metadata": {},
   "outputs": [
    {
     "data": {
      "image/png": "[encoded data removed]",
      "text/plain": [
       "<Figure size 576x396 with 1 Axes>"
      ]
     },
     "metadata": {},
     "output_type": "display_data"
    }
   ],
   "source": [
    "plt.scatter(range(df.shape[0]), np.sort(df.price.values))\n",
    "plt.title(\"Price Curve Distribuition\", fontsize=15)\n",
    "plt.xlabel(\"\")\n",
    "plt.ylabel(\"Amount(US)\", fontsize=12)\n",
    "\n",
    "plt.subplots_adjust(wspace = 0.3, hspace = 0.5,\n",
    "                    top = 0.9)\n",
    "plt.show()"
   ]
  },
  {
   "cell_type": "markdown",
   "metadata": {},
   "source": [
    "<div class=\"alert alert-block alert-info\">\n",
    "<b><font size=\"4\"> Data Pre-Processing</font></b>\n",
    "<div>"
   ]
  },
  {
   "cell_type": "code",
   "execution_count": 15,
   "metadata": {},
   "outputs": [
    {
     "data": {
      "text/html": [
       "<div>\n",
       "<style scoped>\n",
       "    .dataframe tbody tr th:only-of-type {\n",
       "        vertical-align: middle;\n",
       "    }\n",
       "\n",
       "    .dataframe tbody tr th {\n",
       "        vertical-align: top;\n",
       "    }\n",
       "\n",
       "    .dataframe thead th {\n",
       "        text-align: right;\n",
       "    }\n",
       "</style>\n",
       "<table border=\"1\" class=\"dataframe\">\n",
       "  <thead>\n",
       "    <tr style=\"text-align: right;\">\n",
       "      <th></th>\n",
       "      <th>Total</th>\n",
       "      <th>Percent %</th>\n",
       "    </tr>\n",
       "  </thead>\n",
       "  <tbody>\n",
       "    <tr>\n",
       "      <th>yr_built</th>\n",
       "      <td>331</td>\n",
       "      <td>1.531486</td>\n",
       "    </tr>\n",
       "    <tr>\n",
       "      <th>bathrooms</th>\n",
       "      <td>331</td>\n",
       "      <td>1.531486</td>\n",
       "    </tr>\n",
       "    <tr>\n",
       "      <th>date</th>\n",
       "      <td>322</td>\n",
       "      <td>1.489844</td>\n",
       "    </tr>\n",
       "    <tr>\n",
       "      <th>waterfront</th>\n",
       "      <td>313</td>\n",
       "      <td>1.448202</td>\n",
       "    </tr>\n",
       "    <tr>\n",
       "      <th>yr_renovated</th>\n",
       "      <td>298</td>\n",
       "      <td>1.378800</td>\n",
       "    </tr>\n",
       "    <tr>\n",
       "      <th>sqft_lot15</th>\n",
       "      <td>0</td>\n",
       "      <td>0.000000</td>\n",
       "    </tr>\n",
       "    <tr>\n",
       "      <th>price</th>\n",
       "      <td>0</td>\n",
       "      <td>0.000000</td>\n",
       "    </tr>\n",
       "    <tr>\n",
       "      <th>bedrooms</th>\n",
       "      <td>0</td>\n",
       "      <td>0.000000</td>\n",
       "    </tr>\n",
       "    <tr>\n",
       "      <th>sqft_living</th>\n",
       "      <td>0</td>\n",
       "      <td>0.000000</td>\n",
       "    </tr>\n",
       "    <tr>\n",
       "      <th>sqft_lot</th>\n",
       "      <td>0</td>\n",
       "      <td>0.000000</td>\n",
       "    </tr>\n",
       "    <tr>\n",
       "      <th>floors</th>\n",
       "      <td>0</td>\n",
       "      <td>0.000000</td>\n",
       "    </tr>\n",
       "    <tr>\n",
       "      <th>condition</th>\n",
       "      <td>0</td>\n",
       "      <td>0.000000</td>\n",
       "    </tr>\n",
       "    <tr>\n",
       "      <th>view</th>\n",
       "      <td>0</td>\n",
       "      <td>0.000000</td>\n",
       "    </tr>\n",
       "    <tr>\n",
       "      <th>sqft_living15</th>\n",
       "      <td>0</td>\n",
       "      <td>0.000000</td>\n",
       "    </tr>\n",
       "    <tr>\n",
       "      <th>grade</th>\n",
       "      <td>0</td>\n",
       "      <td>0.000000</td>\n",
       "    </tr>\n",
       "    <tr>\n",
       "      <th>sqft_above</th>\n",
       "      <td>0</td>\n",
       "      <td>0.000000</td>\n",
       "    </tr>\n",
       "    <tr>\n",
       "      <th>sqft_basement</th>\n",
       "      <td>0</td>\n",
       "      <td>0.000000</td>\n",
       "    </tr>\n",
       "    <tr>\n",
       "      <th>zipcode</th>\n",
       "      <td>0</td>\n",
       "      <td>0.000000</td>\n",
       "    </tr>\n",
       "    <tr>\n",
       "      <th>lat</th>\n",
       "      <td>0</td>\n",
       "      <td>0.000000</td>\n",
       "    </tr>\n",
       "    <tr>\n",
       "      <th>long</th>\n",
       "      <td>0</td>\n",
       "      <td>0.000000</td>\n",
       "    </tr>\n",
       "    <tr>\n",
       "      <th>id</th>\n",
       "      <td>0</td>\n",
       "      <td>0.000000</td>\n",
       "    </tr>\n",
       "  </tbody>\n",
       "</table>\n",
       "</div>"
      ],
      "text/plain": [
       "               Total  Percent %\n",
       "yr_built         331   1.531486\n",
       "bathrooms        331   1.531486\n",
       "date             322   1.489844\n",
       "waterfront       313   1.448202\n",
       "yr_renovated     298   1.378800\n",
       "sqft_lot15         0   0.000000\n",
       "price              0   0.000000\n",
       "bedrooms           0   0.000000\n",
       "sqft_living        0   0.000000\n",
       "sqft_lot           0   0.000000\n",
       "floors             0   0.000000\n",
       "condition          0   0.000000\n",
       "view               0   0.000000\n",
       "sqft_living15      0   0.000000\n",
       "grade              0   0.000000\n",
       "sqft_above         0   0.000000\n",
       "sqft_basement      0   0.000000\n",
       "zipcode            0   0.000000\n",
       "lat                0   0.000000\n",
       "long               0   0.000000\n",
       "id                 0   0.000000"
      ]
     },
     "execution_count": 15,
     "metadata": {},
     "output_type": "execute_result"
    }
   ],
   "source": [
    "pd.concat([df.isnull().sum().sort_values(ascending = False),((df.isnull().sum() / len(df))*100).sort_values(ascending = False)],axis = 1,keys = ['Total','Percent %'])"
   ]
  },
  {
   "cell_type": "code",
   "execution_count": 16,
   "metadata": {},
   "outputs": [],
   "source": [
    "# drop id and date columns\n",
    "df.drop(['id', 'date'],axis=1, inplace=True)\n",
    "\n",
    "#filling the NaN values with 0 for 'yr_renovated', 'yr_built', and waterfront features\n",
    "df['yr_renovated'].fillna(0,inplace=True)\n",
    "df['yr_built'].fillna(0,inplace=True)\n",
    "df['waterfront'].fillna(0,inplace=True)"
   ]
  },
  {
   "cell_type": "code",
   "execution_count": 17,
   "metadata": {},
   "outputs": [
    {
     "data": {
      "text/html": [
       "<div>\n",
       "<style scoped>\n",
       "    .dataframe tbody tr th:only-of-type {\n",
       "        vertical-align: middle;\n",
       "    }\n",
       "\n",
       "    .dataframe tbody tr th {\n",
       "        vertical-align: top;\n",
       "    }\n",
       "\n",
       "    .dataframe thead th {\n",
       "        text-align: right;\n",
       "    }\n",
       "</style>\n",
       "<table border=\"1\" class=\"dataframe\">\n",
       "  <thead>\n",
       "    <tr style=\"text-align: right;\">\n",
       "      <th></th>\n",
       "      <th>bathrooms</th>\n",
       "    </tr>\n",
       "    <tr>\n",
       "      <th>bedrooms</th>\n",
       "      <th></th>\n",
       "    </tr>\n",
       "  </thead>\n",
       "  <tbody>\n",
       "    <tr>\n",
       "      <th>9</th>\n",
       "      <td>4.416667</td>\n",
       "    </tr>\n",
       "    <tr>\n",
       "      <th>7</th>\n",
       "      <td>3.628378</td>\n",
       "    </tr>\n",
       "    <tr>\n",
       "      <th>8</th>\n",
       "      <td>3.557692</td>\n",
       "    </tr>\n",
       "    <tr>\n",
       "      <th>10</th>\n",
       "      <td>3.416667</td>\n",
       "    </tr>\n",
       "    <tr>\n",
       "      <th>6</th>\n",
       "      <td>3.066667</td>\n",
       "    </tr>\n",
       "    <tr>\n",
       "      <th>11</th>\n",
       "      <td>3.000000</td>\n",
       "    </tr>\n",
       "    <tr>\n",
       "      <th>5</th>\n",
       "      <td>2.778699</td>\n",
       "    </tr>\n",
       "    <tr>\n",
       "      <th>4</th>\n",
       "      <td>2.437158</td>\n",
       "    </tr>\n",
       "    <tr>\n",
       "      <th>3</th>\n",
       "      <td>1.967527</td>\n",
       "    </tr>\n",
       "    <tr>\n",
       "      <th>33</th>\n",
       "      <td>1.750000</td>\n",
       "    </tr>\n",
       "    <tr>\n",
       "      <th>2</th>\n",
       "      <td>1.400699</td>\n",
       "    </tr>\n",
       "    <tr>\n",
       "      <th>1</th>\n",
       "      <td>1.068878</td>\n",
       "    </tr>\n",
       "    <tr>\n",
       "      <th>0</th>\n",
       "      <td>0.895833</td>\n",
       "    </tr>\n",
       "  </tbody>\n",
       "</table>\n",
       "</div>"
      ],
      "text/plain": [
       "          bathrooms\n",
       "bedrooms           \n",
       "9          4.416667\n",
       "7          3.628378\n",
       "8          3.557692\n",
       "10         3.416667\n",
       "6          3.066667\n",
       "11         3.000000\n",
       "5          2.778699\n",
       "4          2.437158\n",
       "3          1.967527\n",
       "33         1.750000\n",
       "2          1.400699\n",
       "1          1.068878\n",
       "0          0.895833"
      ]
     },
     "execution_count": 17,
     "metadata": {},
     "output_type": "execute_result"
    }
   ],
   "source": [
    "df[['bedrooms','bathrooms']].groupby('bedrooms').mean().sort_values('bathrooms',ascending=False)"
   ]
  },
  {
   "cell_type": "code",
   "execution_count": 18,
   "metadata": {},
   "outputs": [
    {
     "data": {
      "text/html": [
       "<div>\n",
       "<style scoped>\n",
       "    .dataframe tbody tr th:only-of-type {\n",
       "        vertical-align: middle;\n",
       "    }\n",
       "\n",
       "    .dataframe tbody tr th {\n",
       "        vertical-align: top;\n",
       "    }\n",
       "\n",
       "    .dataframe thead th {\n",
       "        text-align: right;\n",
       "    }\n",
       "</style>\n",
       "<table border=\"1\" class=\"dataframe\">\n",
       "  <thead>\n",
       "    <tr style=\"text-align: right;\">\n",
       "      <th></th>\n",
       "      <th>price</th>\n",
       "      <th>bathrooms</th>\n",
       "      <th>sqft_living</th>\n",
       "      <th>sqft_lot</th>\n",
       "      <th>floors</th>\n",
       "      <th>waterfront</th>\n",
       "      <th>view</th>\n",
       "      <th>condition</th>\n",
       "      <th>grade</th>\n",
       "      <th>sqft_above</th>\n",
       "      <th>sqft_basement</th>\n",
       "      <th>yr_built</th>\n",
       "      <th>yr_renovated</th>\n",
       "      <th>zipcode</th>\n",
       "      <th>lat</th>\n",
       "      <th>long</th>\n",
       "      <th>sqft_living15</th>\n",
       "      <th>sqft_lot15</th>\n",
       "    </tr>\n",
       "  </thead>\n",
       "  <tbody>\n",
       "    <tr>\n",
       "      <th>0</th>\n",
       "      <td>221900.0</td>\n",
       "      <td>1.00</td>\n",
       "      <td>1180</td>\n",
       "      <td>5650</td>\n",
       "      <td>1.0</td>\n",
       "      <td>0.0</td>\n",
       "      <td>0</td>\n",
       "      <td>3</td>\n",
       "      <td>7</td>\n",
       "      <td>1180</td>\n",
       "      <td>0</td>\n",
       "      <td>1955.0</td>\n",
       "      <td>0.0</td>\n",
       "      <td>98178</td>\n",
       "      <td>47.5112</td>\n",
       "      <td>-122.257</td>\n",
       "      <td>1340</td>\n",
       "      <td>5650</td>\n",
       "    </tr>\n",
       "    <tr>\n",
       "      <th>1</th>\n",
       "      <td>538000.0</td>\n",
       "      <td>2.25</td>\n",
       "      <td>2570</td>\n",
       "      <td>7242</td>\n",
       "      <td>2.0</td>\n",
       "      <td>0.0</td>\n",
       "      <td>0</td>\n",
       "      <td>3</td>\n",
       "      <td>7</td>\n",
       "      <td>2170</td>\n",
       "      <td>400</td>\n",
       "      <td>1951.0</td>\n",
       "      <td>1991.0</td>\n",
       "      <td>98125</td>\n",
       "      <td>47.7210</td>\n",
       "      <td>-122.319</td>\n",
       "      <td>1690</td>\n",
       "      <td>7639</td>\n",
       "    </tr>\n",
       "    <tr>\n",
       "      <th>2</th>\n",
       "      <td>180000.0</td>\n",
       "      <td>1.00</td>\n",
       "      <td>770</td>\n",
       "      <td>10000</td>\n",
       "      <td>1.0</td>\n",
       "      <td>0.0</td>\n",
       "      <td>0</td>\n",
       "      <td>3</td>\n",
       "      <td>6</td>\n",
       "      <td>770</td>\n",
       "      <td>0</td>\n",
       "      <td>1933.0</td>\n",
       "      <td>0.0</td>\n",
       "      <td>98028</td>\n",
       "      <td>47.7379</td>\n",
       "      <td>-122.233</td>\n",
       "      <td>2720</td>\n",
       "      <td>8062</td>\n",
       "    </tr>\n",
       "    <tr>\n",
       "      <th>3</th>\n",
       "      <td>604000.0</td>\n",
       "      <td>3.00</td>\n",
       "      <td>1960</td>\n",
       "      <td>5000</td>\n",
       "      <td>1.0</td>\n",
       "      <td>0.0</td>\n",
       "      <td>0</td>\n",
       "      <td>5</td>\n",
       "      <td>7</td>\n",
       "      <td>1050</td>\n",
       "      <td>910</td>\n",
       "      <td>1965.0</td>\n",
       "      <td>0.0</td>\n",
       "      <td>98136</td>\n",
       "      <td>47.5208</td>\n",
       "      <td>-122.393</td>\n",
       "      <td>1360</td>\n",
       "      <td>5000</td>\n",
       "    </tr>\n",
       "    <tr>\n",
       "      <th>4</th>\n",
       "      <td>510000.0</td>\n",
       "      <td>2.00</td>\n",
       "      <td>1680</td>\n",
       "      <td>8080</td>\n",
       "      <td>1.0</td>\n",
       "      <td>0.0</td>\n",
       "      <td>0</td>\n",
       "      <td>3</td>\n",
       "      <td>8</td>\n",
       "      <td>1680</td>\n",
       "      <td>0</td>\n",
       "      <td>1987.0</td>\n",
       "      <td>0.0</td>\n",
       "      <td>98074</td>\n",
       "      <td>47.6168</td>\n",
       "      <td>-122.045</td>\n",
       "      <td>1800</td>\n",
       "      <td>7503</td>\n",
       "    </tr>\n",
       "    <tr>\n",
       "      <th>...</th>\n",
       "      <td>...</td>\n",
       "      <td>...</td>\n",
       "      <td>...</td>\n",
       "      <td>...</td>\n",
       "      <td>...</td>\n",
       "      <td>...</td>\n",
       "      <td>...</td>\n",
       "      <td>...</td>\n",
       "      <td>...</td>\n",
       "      <td>...</td>\n",
       "      <td>...</td>\n",
       "      <td>...</td>\n",
       "      <td>...</td>\n",
       "      <td>...</td>\n",
       "      <td>...</td>\n",
       "      <td>...</td>\n",
       "      <td>...</td>\n",
       "      <td>...</td>\n",
       "    </tr>\n",
       "    <tr>\n",
       "      <th>21608</th>\n",
       "      <td>360000.0</td>\n",
       "      <td>2.50</td>\n",
       "      <td>1530</td>\n",
       "      <td>1131</td>\n",
       "      <td>3.0</td>\n",
       "      <td>0.0</td>\n",
       "      <td>0</td>\n",
       "      <td>3</td>\n",
       "      <td>8</td>\n",
       "      <td>1530</td>\n",
       "      <td>0</td>\n",
       "      <td>2009.0</td>\n",
       "      <td>0.0</td>\n",
       "      <td>98103</td>\n",
       "      <td>47.6993</td>\n",
       "      <td>-122.346</td>\n",
       "      <td>1530</td>\n",
       "      <td>1509</td>\n",
       "    </tr>\n",
       "    <tr>\n",
       "      <th>21609</th>\n",
       "      <td>400000.0</td>\n",
       "      <td>2.50</td>\n",
       "      <td>2310</td>\n",
       "      <td>5813</td>\n",
       "      <td>2.0</td>\n",
       "      <td>0.0</td>\n",
       "      <td>0</td>\n",
       "      <td>3</td>\n",
       "      <td>8</td>\n",
       "      <td>2310</td>\n",
       "      <td>0</td>\n",
       "      <td>2014.0</td>\n",
       "      <td>0.0</td>\n",
       "      <td>98146</td>\n",
       "      <td>47.5107</td>\n",
       "      <td>-122.362</td>\n",
       "      <td>1830</td>\n",
       "      <td>7200</td>\n",
       "    </tr>\n",
       "    <tr>\n",
       "      <th>21610</th>\n",
       "      <td>402101.0</td>\n",
       "      <td>0.75</td>\n",
       "      <td>1020</td>\n",
       "      <td>1350</td>\n",
       "      <td>2.0</td>\n",
       "      <td>0.0</td>\n",
       "      <td>0</td>\n",
       "      <td>3</td>\n",
       "      <td>7</td>\n",
       "      <td>1020</td>\n",
       "      <td>0</td>\n",
       "      <td>2009.0</td>\n",
       "      <td>0.0</td>\n",
       "      <td>98144</td>\n",
       "      <td>47.5944</td>\n",
       "      <td>-122.299</td>\n",
       "      <td>1020</td>\n",
       "      <td>2007</td>\n",
       "    </tr>\n",
       "    <tr>\n",
       "      <th>21611</th>\n",
       "      <td>400000.0</td>\n",
       "      <td>2.50</td>\n",
       "      <td>1600</td>\n",
       "      <td>2388</td>\n",
       "      <td>2.0</td>\n",
       "      <td>0.0</td>\n",
       "      <td>0</td>\n",
       "      <td>3</td>\n",
       "      <td>8</td>\n",
       "      <td>1600</td>\n",
       "      <td>0</td>\n",
       "      <td>2004.0</td>\n",
       "      <td>0.0</td>\n",
       "      <td>98027</td>\n",
       "      <td>47.5345</td>\n",
       "      <td>-122.069</td>\n",
       "      <td>1410</td>\n",
       "      <td>1287</td>\n",
       "    </tr>\n",
       "    <tr>\n",
       "      <th>21612</th>\n",
       "      <td>325000.0</td>\n",
       "      <td>0.75</td>\n",
       "      <td>1020</td>\n",
       "      <td>1076</td>\n",
       "      <td>2.0</td>\n",
       "      <td>0.0</td>\n",
       "      <td>0</td>\n",
       "      <td>3</td>\n",
       "      <td>7</td>\n",
       "      <td>1020</td>\n",
       "      <td>0</td>\n",
       "      <td>2008.0</td>\n",
       "      <td>0.0</td>\n",
       "      <td>98144</td>\n",
       "      <td>47.5941</td>\n",
       "      <td>-122.299</td>\n",
       "      <td>1020</td>\n",
       "      <td>1357</td>\n",
       "    </tr>\n",
       "  </tbody>\n",
       "</table>\n",
       "<p>21613 rows × 18 columns</p>\n",
       "</div>"
      ],
      "text/plain": [
       "          price  bathrooms  sqft_living  sqft_lot  floors  waterfront  view  \\\n",
       "0      221900.0       1.00         1180      5650     1.0         0.0     0   \n",
       "1      538000.0       2.25         2570      7242     2.0         0.0     0   \n",
       "2      180000.0       1.00          770     10000     1.0         0.0     0   \n",
       "3      604000.0       3.00         1960      5000     1.0         0.0     0   \n",
       "4      510000.0       2.00         1680      8080     1.0         0.0     0   \n",
       "...         ...        ...          ...       ...     ...         ...   ...   \n",
       "21608  360000.0       2.50         1530      1131     3.0         0.0     0   \n",
       "21609  400000.0       2.50         2310      5813     2.0         0.0     0   \n",
       "21610  402101.0       0.75         1020      1350     2.0         0.0     0   \n",
       "21611  400000.0       2.50         1600      2388     2.0         0.0     0   \n",
       "21612  325000.0       0.75         1020      1076     2.0         0.0     0   \n",
       "\n",
       "       condition  grade  sqft_above  sqft_basement  yr_built  yr_renovated  \\\n",
       "0              3      7        1180              0    1955.0           0.0   \n",
       "1              3      7        2170            400    1951.0        1991.0   \n",
       "2              3      6         770              0    1933.0           0.0   \n",
       "3              5      7        1050            910    1965.0           0.0   \n",
       "4              3      8        1680              0    1987.0           0.0   \n",
       "...          ...    ...         ...            ...       ...           ...   \n",
       "21608          3      8        1530              0    2009.0           0.0   \n",
       "21609          3      8        2310              0    2014.0           0.0   \n",
       "21610          3      7        1020              0    2009.0           0.0   \n",
       "21611          3      8        1600              0    2004.0           0.0   \n",
       "21612          3      7        1020              0    2008.0           0.0   \n",
       "\n",
       "       zipcode      lat     long  sqft_living15  sqft_lot15  \n",
       "0        98178  47.5112 -122.257           1340        5650  \n",
       "1        98125  47.7210 -122.319           1690        7639  \n",
       "2        98028  47.7379 -122.233           2720        8062  \n",
       "3        98136  47.5208 -122.393           1360        5000  \n",
       "4        98074  47.6168 -122.045           1800        7503  \n",
       "...        ...      ...      ...            ...         ...  \n",
       "21608    98103  47.6993 -122.346           1530        1509  \n",
       "21609    98146  47.5107 -122.362           1830        7200  \n",
       "21610    98144  47.5944 -122.299           1020        2007  \n",
       "21611    98027  47.5345 -122.069           1410        1287  \n",
       "21612    98144  47.5941 -122.299           1020        1357  \n",
       "\n",
       "[21613 rows x 18 columns]"
      ]
     },
     "execution_count": 18,
     "metadata": {},
     "output_type": "execute_result"
    }
   ],
   "source": [
    "#grouby by baedrooms and replace with mean for bathrooms missing values\n",
    "bedrooms_grouped = df.groupby([\"bedrooms\"])\n",
    "bedrooms_imputed = bedrooms_grouped.transform(lambda grp: grp.fillna(grp.mean()))\n",
    "bedrooms_imputed"
   ]
  },
  {
   "cell_type": "code",
   "execution_count": 19,
   "metadata": {},
   "outputs": [
    {
     "data": {
      "text/plain": [
       "0"
      ]
     },
     "execution_count": 19,
     "metadata": {},
     "output_type": "execute_result"
    }
   ],
   "source": [
    "bedrooms_imputed['bathrooms'].isnull().sum()"
   ]
  },
  {
   "cell_type": "code",
   "execution_count": 20,
   "metadata": {},
   "outputs": [],
   "source": [
    "df['bathrooms'] = bedrooms_imputed['bathrooms']"
   ]
  },
  {
   "cell_type": "markdown",
   "metadata": {},
   "source": [
    "<div class=\"alert alert-block alert-warning\">\n",
    "                                                                                       \n",
    "We will lose the rest of the features just because one of the features had a missing value even if it’s a small percentage of the dataset. Instead of dropping one whole observation, we will keep the data. \n",
    "    \n",
    "    \n",
    "From above we can see that the `yr_renovated`, `yr_built` and `waterfront` are missing only about 0.015% of the data, hence we will be replacing null values in the column with '0' in the dataset as its logic to conclude that if it's null then it's possibly there's no yr_renovated, yr_built or waterfront data. \n",
    "\n",
    "We also replace `bathrooms` with mean grouping by the `bedrooms` as more bedrooms indicates more bathrooms and it's beneficial for simple linear models. \n",
    "<br>\n",
    "    \n",
    "And we will also be dropping the features `id` and `date as they won't be quite useful for Regression analysis. Hence we will be dropping these features while modelling but for Exploratiry Data Analysis(EDA), we will make use of it to understand the dataset better.\n",
    "<div>"
   ]
  },
  {
   "cell_type": "code",
   "execution_count": 21,
   "metadata": {},
   "outputs": [
    {
     "data": {
      "text/plain": [
       "(21613, 19)"
      ]
     },
     "execution_count": 21,
     "metadata": {},
     "output_type": "execute_result"
    }
   ],
   "source": [
    "# Checking the shape of the dataset after dropping the NaN values\n",
    "df.shape"
   ]
  },
  {
   "cell_type": "code",
   "execution_count": 22,
   "metadata": {},
   "outputs": [
    {
     "data": {
      "text/plain": [
       "price            0\n",
       "bedrooms         0\n",
       "bathrooms        0\n",
       "sqft_living      0\n",
       "sqft_lot         0\n",
       "floors           0\n",
       "waterfront       0\n",
       "view             0\n",
       "condition        0\n",
       "grade            0\n",
       "sqft_above       0\n",
       "sqft_basement    0\n",
       "yr_built         0\n",
       "yr_renovated     0\n",
       "zipcode          0\n",
       "lat              0\n",
       "long             0\n",
       "sqft_living15    0\n",
       "sqft_lot15       0\n",
       "dtype: int64"
      ]
     },
     "execution_count": 22,
     "metadata": {},
     "output_type": "execute_result"
    }
   ],
   "source": [
    "df.isnull().sum()"
   ]
  },
  {
   "cell_type": "markdown",
   "metadata": {},
   "source": [
    "Now, all the NaN values are removed from the Dataframe"
   ]
  },
  {
   "cell_type": "markdown",
   "metadata": {},
   "source": [
    "<div class=\"alert alert-block alert-info\">\n",
    "<b><font size=\"4\"> Data Partitioning :</font></b>\n",
    "    \n",
    "Machine learning methods typically require splitting data into multiple chunks for training, validating, and finally testing for building and training a model\n",
    "    <div>"
   ]
  },
  {
   "cell_type": "code",
   "execution_count": 23,
   "metadata": {},
   "outputs": [],
   "source": [
    "X=df.drop(['price'],axis=1)\n",
    "y=df['price']"
   ]
  },
  {
   "cell_type": "code",
   "execution_count": 24,
   "metadata": {},
   "outputs": [],
   "source": [
    "from sklearn.model_selection import train_test_split"
   ]
  },
  {
   "cell_type": "code",
   "execution_count": 25,
   "metadata": {},
   "outputs": [],
   "source": [
    "X_train_org, X_test_org, y_train, y_test = train_test_split(X, y, test_size=0.30, random_state=0)"
   ]
  },
  {
   "cell_type": "code",
   "execution_count": 26,
   "metadata": {},
   "outputs": [
    {
     "name": "stdout",
     "output_type": "stream",
     "text": [
      "(15129, 18) (15129,)\n"
     ]
    }
   ],
   "source": [
    "print(X_train_org.shape, y_train.shape)"
   ]
  },
  {
   "cell_type": "code",
   "execution_count": 27,
   "metadata": {},
   "outputs": [
    {
     "name": "stdout",
     "output_type": "stream",
     "text": [
      "(6484, 18) (6484,)\n"
     ]
    }
   ],
   "source": [
    "print(X_test_org.shape, y_test.shape)"
   ]
  },
  {
   "cell_type": "markdown",
   "metadata": {},
   "source": [
    "<div class=\"alert alert-block alert-info\">\n",
    "<b><font size=\"4\"> Feature Scaling</font></b>\n",
    "<div>"
   ]
  },
  {
   "cell_type": "code",
   "execution_count": 28,
   "metadata": {},
   "outputs": [],
   "source": [
    "from sklearn.preprocessing import StandardScaler"
   ]
  },
  {
   "cell_type": "code",
   "execution_count": 29,
   "metadata": {},
   "outputs": [],
   "source": [
    "scaler = StandardScaler()\n",
    "X_train = scaler.fit_transform(X_train_org)\n",
    "X_test = scaler.transform(X_test_org)"
   ]
  },
  {
   "cell_type": "markdown",
   "metadata": {},
   "source": [
    "<div class=\"alert alert-block alert-info\">\n",
    "<b><font size=\"4\"> Model Evaluation strategy (Metrics Selection)</font></b>"
   ]
  },
  {
   "cell_type": "code",
   "execution_count": 30,
   "metadata": {},
   "outputs": [],
   "source": [
    "from sklearn.metrics import mean_squared_error, r2_score\n",
    "from sklearn.model_selection import GridSearchCV"
   ]
  },
  {
   "cell_type": "markdown",
   "metadata": {},
   "source": [
    "<div class=\"alert alert-block alert-info\">\n",
    "<b><font size=\"4\">  KNN Regressor</font></b>"
   ]
  },
  {
   "cell_type": "code",
   "execution_count": 375,
   "metadata": {},
   "outputs": [
    {
     "data": {
      "text/plain": [
       "GridSearchCV(cv=6, error_score=nan,\n",
       "             estimator=KNeighborsRegressor(algorithm='auto', leaf_size=30,\n",
       "                                           metric='minkowski',\n",
       "                                           metric_params=None, n_jobs=None,\n",
       "                                           n_neighbors=5, p=2,\n",
       "                                           weights='uniform'),\n",
       "             iid='deprecated', n_jobs=-1,\n",
       "             param_grid={'n_neighbors': range(3, 12)}, pre_dispatch='2*n_jobs',\n",
       "             refit=True, return_train_score=True, scoring=None, verbose=0)"
      ]
     },
     "execution_count": 375,
     "metadata": {},
     "output_type": "execute_result"
    }
   ],
   "source": [
    "np.random.seed(42)\n",
    "from sklearn.neighbors import KNeighborsRegressor\n",
    "knnparameters = {'n_neighbors':range(3,12)}\n",
    "reg = GridSearchCV(KNeighborsRegressor(), knnparameters,return_train_score=True, cv= 6, n_jobs=-1)\n",
    "reg.fit(X_train, y_train)\n",
    "#6-fold cross validation instead of default 5"
   ]
  },
  {
   "cell_type": "code",
   "execution_count": 378,
   "metadata": {},
   "outputs": [
    {
     "data": {
      "text/plain": [
       "0.7785134386477723"
      ]
     },
     "execution_count": 378,
     "metadata": {},
     "output_type": "execute_result"
    }
   ],
   "source": [
    "reg.score(X_test, y_test)\n",
    "#R2 score"
   ]
  },
  {
   "cell_type": "code",
   "execution_count": 379,
   "metadata": {},
   "outputs": [
    {
     "name": "stdout",
     "output_type": "stream",
     "text": [
      "Best parameters: {'n_neighbors': 7}\n",
      "Best cross-validation score: 0.7803305044564227\n"
     ]
    }
   ],
   "source": [
    "print(f'Best parameters: {reg.best_params_}')\n",
    "print(f'Best cross-validation score: {reg.best_score_}')\n",
    "#Grid Search to find the best scaling parameter and mean testing score"
   ]
  },
  {
   "cell_type": "code",
   "execution_count": 380,
   "metadata": {},
   "outputs": [
    {
     "data": {
      "text/html": [
       "<div>\n",
       "<style scoped>\n",
       "    .dataframe tbody tr th:only-of-type {\n",
       "        vertical-align: middle;\n",
       "    }\n",
       "\n",
       "    .dataframe tbody tr th {\n",
       "        vertical-align: top;\n",
       "    }\n",
       "\n",
       "    .dataframe thead th {\n",
       "        text-align: right;\n",
       "    }\n",
       "</style>\n",
       "<table border=\"1\" class=\"dataframe\">\n",
       "  <thead>\n",
       "    <tr style=\"text-align: right;\">\n",
       "      <th></th>\n",
       "      <th>mean_fit_time</th>\n",
       "      <th>std_fit_time</th>\n",
       "      <th>mean_score_time</th>\n",
       "      <th>std_score_time</th>\n",
       "      <th>param_n_neighbors</th>\n",
       "      <th>params</th>\n",
       "      <th>split0_test_score</th>\n",
       "      <th>split1_test_score</th>\n",
       "      <th>split2_test_score</th>\n",
       "      <th>split3_test_score</th>\n",
       "      <th>...</th>\n",
       "      <th>std_test_score</th>\n",
       "      <th>rank_test_score</th>\n",
       "      <th>split0_train_score</th>\n",
       "      <th>split1_train_score</th>\n",
       "      <th>split2_train_score</th>\n",
       "      <th>split3_train_score</th>\n",
       "      <th>split4_train_score</th>\n",
       "      <th>split5_train_score</th>\n",
       "      <th>mean_train_score</th>\n",
       "      <th>std_train_score</th>\n",
       "    </tr>\n",
       "  </thead>\n",
       "  <tbody>\n",
       "    <tr>\n",
       "      <th>0</th>\n",
       "      <td>0.077448</td>\n",
       "      <td>0.007720</td>\n",
       "      <td>1.765343</td>\n",
       "      <td>0.352252</td>\n",
       "      <td>3</td>\n",
       "      <td>{'n_neighbors': 3}</td>\n",
       "      <td>0.772603</td>\n",
       "      <td>0.702183</td>\n",
       "      <td>0.777526</td>\n",
       "      <td>0.753921</td>\n",
       "      <td>...</td>\n",
       "      <td>0.028143</td>\n",
       "      <td>9</td>\n",
       "      <td>0.881010</td>\n",
       "      <td>0.883287</td>\n",
       "      <td>0.874322</td>\n",
       "      <td>0.880920</td>\n",
       "      <td>0.881000</td>\n",
       "      <td>0.877522</td>\n",
       "      <td>0.879677</td>\n",
       "      <td>0.002928</td>\n",
       "    </tr>\n",
       "    <tr>\n",
       "      <th>1</th>\n",
       "      <td>0.078681</td>\n",
       "      <td>0.006864</td>\n",
       "      <td>1.899310</td>\n",
       "      <td>0.356572</td>\n",
       "      <td>4</td>\n",
       "      <td>{'n_neighbors': 4}</td>\n",
       "      <td>0.770976</td>\n",
       "      <td>0.723733</td>\n",
       "      <td>0.795320</td>\n",
       "      <td>0.754698</td>\n",
       "      <td>...</td>\n",
       "      <td>0.026444</td>\n",
       "      <td>8</td>\n",
       "      <td>0.864906</td>\n",
       "      <td>0.867119</td>\n",
       "      <td>0.858985</td>\n",
       "      <td>0.861453</td>\n",
       "      <td>0.868700</td>\n",
       "      <td>0.865367</td>\n",
       "      <td>0.864422</td>\n",
       "      <td>0.003293</td>\n",
       "    </tr>\n",
       "    <tr>\n",
       "      <th>2</th>\n",
       "      <td>0.086814</td>\n",
       "      <td>0.020335</td>\n",
       "      <td>1.492022</td>\n",
       "      <td>0.051501</td>\n",
       "      <td>5</td>\n",
       "      <td>{'n_neighbors': 5}</td>\n",
       "      <td>0.780121</td>\n",
       "      <td>0.738546</td>\n",
       "      <td>0.803796</td>\n",
       "      <td>0.755171</td>\n",
       "      <td>...</td>\n",
       "      <td>0.023658</td>\n",
       "      <td>4</td>\n",
       "      <td>0.854915</td>\n",
       "      <td>0.858849</td>\n",
       "      <td>0.848714</td>\n",
       "      <td>0.850793</td>\n",
       "      <td>0.854932</td>\n",
       "      <td>0.858031</td>\n",
       "      <td>0.854372</td>\n",
       "      <td>0.003625</td>\n",
       "    </tr>\n",
       "    <tr>\n",
       "      <th>3</th>\n",
       "      <td>0.076571</td>\n",
       "      <td>0.002691</td>\n",
       "      <td>1.519748</td>\n",
       "      <td>0.043124</td>\n",
       "      <td>6</td>\n",
       "      <td>{'n_neighbors': 6}</td>\n",
       "      <td>0.779014</td>\n",
       "      <td>0.736719</td>\n",
       "      <td>0.801506</td>\n",
       "      <td>0.758538</td>\n",
       "      <td>...</td>\n",
       "      <td>0.023446</td>\n",
       "      <td>2</td>\n",
       "      <td>0.845942</td>\n",
       "      <td>0.850875</td>\n",
       "      <td>0.839791</td>\n",
       "      <td>0.844015</td>\n",
       "      <td>0.843940</td>\n",
       "      <td>0.848109</td>\n",
       "      <td>0.845445</td>\n",
       "      <td>0.003491</td>\n",
       "    </tr>\n",
       "    <tr>\n",
       "      <th>4</th>\n",
       "      <td>0.076277</td>\n",
       "      <td>0.004990</td>\n",
       "      <td>1.600950</td>\n",
       "      <td>0.091392</td>\n",
       "      <td>7</td>\n",
       "      <td>{'n_neighbors': 7}</td>\n",
       "      <td>0.780933</td>\n",
       "      <td>0.732894</td>\n",
       "      <td>0.803518</td>\n",
       "      <td>0.762411</td>\n",
       "      <td>...</td>\n",
       "      <td>0.026052</td>\n",
       "      <td>1</td>\n",
       "      <td>0.838973</td>\n",
       "      <td>0.844161</td>\n",
       "      <td>0.832775</td>\n",
       "      <td>0.836804</td>\n",
       "      <td>0.833503</td>\n",
       "      <td>0.839283</td>\n",
       "      <td>0.837583</td>\n",
       "      <td>0.003840</td>\n",
       "    </tr>\n",
       "    <tr>\n",
       "      <th>5</th>\n",
       "      <td>0.077573</td>\n",
       "      <td>0.007830</td>\n",
       "      <td>1.603179</td>\n",
       "      <td>0.042278</td>\n",
       "      <td>8</td>\n",
       "      <td>{'n_neighbors': 8}</td>\n",
       "      <td>0.774641</td>\n",
       "      <td>0.732107</td>\n",
       "      <td>0.802499</td>\n",
       "      <td>0.761297</td>\n",
       "      <td>...</td>\n",
       "      <td>0.025606</td>\n",
       "      <td>3</td>\n",
       "      <td>0.833304</td>\n",
       "      <td>0.837151</td>\n",
       "      <td>0.826368</td>\n",
       "      <td>0.830714</td>\n",
       "      <td>0.827404</td>\n",
       "      <td>0.831644</td>\n",
       "      <td>0.831098</td>\n",
       "      <td>0.003605</td>\n",
       "    </tr>\n",
       "  </tbody>\n",
       "</table>\n",
       "<p>6 rows × 23 columns</p>\n",
       "</div>"
      ],
      "text/plain": [
       "   mean_fit_time  std_fit_time  mean_score_time  std_score_time  \\\n",
       "0       0.077448      0.007720         1.765343        0.352252   \n",
       "1       0.078681      0.006864         1.899310        0.356572   \n",
       "2       0.086814      0.020335         1.492022        0.051501   \n",
       "3       0.076571      0.002691         1.519748        0.043124   \n",
       "4       0.076277      0.004990         1.600950        0.091392   \n",
       "5       0.077573      0.007830         1.603179        0.042278   \n",
       "\n",
       "  param_n_neighbors              params  split0_test_score  split1_test_score  \\\n",
       "0                 3  {'n_neighbors': 3}           0.772603           0.702183   \n",
       "1                 4  {'n_neighbors': 4}           0.770976           0.723733   \n",
       "2                 5  {'n_neighbors': 5}           0.780121           0.738546   \n",
       "3                 6  {'n_neighbors': 6}           0.779014           0.736719   \n",
       "4                 7  {'n_neighbors': 7}           0.780933           0.732894   \n",
       "5                 8  {'n_neighbors': 8}           0.774641           0.732107   \n",
       "\n",
       "   split2_test_score  split3_test_score  ...  std_test_score  rank_test_score  \\\n",
       "0           0.777526           0.753921  ...        0.028143                9   \n",
       "1           0.795320           0.754698  ...        0.026444                8   \n",
       "2           0.803796           0.755171  ...        0.023658                4   \n",
       "3           0.801506           0.758538  ...        0.023446                2   \n",
       "4           0.803518           0.762411  ...        0.026052                1   \n",
       "5           0.802499           0.761297  ...        0.025606                3   \n",
       "\n",
       "   split0_train_score  split1_train_score  split2_train_score  \\\n",
       "0            0.881010            0.883287            0.874322   \n",
       "1            0.864906            0.867119            0.858985   \n",
       "2            0.854915            0.858849            0.848714   \n",
       "3            0.845942            0.850875            0.839791   \n",
       "4            0.838973            0.844161            0.832775   \n",
       "5            0.833304            0.837151            0.826368   \n",
       "\n",
       "   split3_train_score  split4_train_score  split5_train_score  \\\n",
       "0            0.880920            0.881000            0.877522   \n",
       "1            0.861453            0.868700            0.865367   \n",
       "2            0.850793            0.854932            0.858031   \n",
       "3            0.844015            0.843940            0.848109   \n",
       "4            0.836804            0.833503            0.839283   \n",
       "5            0.830714            0.827404            0.831644   \n",
       "\n",
       "   mean_train_score  std_train_score  \n",
       "0          0.879677         0.002928  \n",
       "1          0.864422         0.003293  \n",
       "2          0.854372         0.003625  \n",
       "3          0.845445         0.003491  \n",
       "4          0.837583         0.003840  \n",
       "5          0.831098         0.003605  \n",
       "\n",
       "[6 rows x 23 columns]"
      ]
     },
     "execution_count": 380,
     "metadata": {},
     "output_type": "execute_result"
    }
   ],
   "source": [
    "results=pd.DataFrame(reg.cv_results_)\n",
    "results.head(6)"
   ]
  },
  {
   "cell_type": "code",
   "execution_count": 381,
   "metadata": {},
   "outputs": [
    {
     "name": "stdout",
     "output_type": "stream",
     "text": [
      "\n",
      "For n_neighbors= {'n_neighbors': 7}\n",
      "\n",
      "\t• Cross validation Training score mean:  0.8375834338503795\n",
      "\n",
      "\t• Cross validation Testing score mean:  0.7803305044564227\n",
      "\n",
      "\t• R2 Score:  0.7785134386477723\n",
      "\n",
      "\t• Root Mean Squared Error:  174379.8218526382\n",
      "----------------------------------------------------------------------------\n"
     ]
    }
   ],
   "source": [
    "pred = reg.predict(X_test)\n",
    "print('\\nFor n_neighbors=',results['params'][reg.best_index_])\n",
    "print('\\n\\t• Cross validation Training score mean: ',results['mean_train_score'][reg.best_index_])\n",
    "print('\\n\\t• Cross validation Testing score mean: ' ,reg.best_score_)\n",
    "print('\\n\\t• R2 Score: ',r2_score(y_test,pred))\n",
    "print('\\n\\t• Root Mean Squared Error: ', np.sqrt(mean_squared_error(y_test, pred)))\n",
    "print('----------------------------------------------------------------------------')"
   ]
  },
  {
   "cell_type": "markdown",
   "metadata": {},
   "source": [
    "<div class=\"alert alert-block alert-success\">     \n",
    "\n",
    "    \n",
    "From the above results we can see that the KNN model yields the best results when `K = 7` which leads to the best R<sup>2</sup> score of `0.778513`\n",
    "<div>"
   ]
  },
  {
   "cell_type": "code",
   "execution_count": 383,
   "metadata": {},
   "outputs": [
    {
     "data": {
      "image/png": "[encoded data removed]",
      "text/plain": [
       "<Figure size 1440x576 with 1 Axes>"
      ]
     },
     "metadata": {},
     "output_type": "display_data"
    }
   ],
   "source": [
    "plt.figure(figsize=(20,8))\n",
    "x_axis = list(range(3,12))\n",
    "plt.plot(x_axis, results['mean_train_score'], c = 'g', label = 'Training Score',marker='o')\n",
    "plt.plot(x_axis, results['mean_test_score'], c = 'b', label = 'Testing Score',marker='o')\n",
    "plt.legend(loc='best')\n",
    "plt.title('\\nScores comparison (Crossvalidation)\\n',fontsize=20)\n",
    "plt.xlabel('\\nK Nearest Neighbor',fontsize=14)\n",
    "plt.ylabel('Scores Metric\\n',fontsize=14)\n",
    "sns.set()\n",
    "plt.show()"
   ]
  },
  {
   "cell_type": "markdown",
   "metadata": {},
   "source": [
    "Lets analyze the Crossvalidation testing score closely as we have to choose the best score"
   ]
  },
  {
   "cell_type": "code",
   "execution_count": 384,
   "metadata": {},
   "outputs": [
    {
     "data": {
      "image/png": "[encoded data removed]",
      "text/plain": [
       "<Figure size 1440x576 with 1 Axes>"
      ]
     },
     "metadata": {},
     "output_type": "display_data"
    }
   ],
   "source": [
    "plt.figure(figsize=(20,8))\n",
    "x_axis = list(range(3,12))\n",
    "plt.plot(x_axis, results['mean_test_score'], c = 'b', label = 'Testing Score',marker='o')\n",
    "plt.annotate(\"Best score\",fontsize=16,xy=(7, 0.7803),xytext=(8, 0.7720), arrowprops=dict(arrowstyle=\"-|>\",connectionstyle=\"arc3\",facecolor=\"red\",edgecolor=\"red\",linestyle='--',linewidth=2))\n",
    "plt.legend(loc='best')\n",
    "plt.title('\\nScores comparison (Crossvalidation)\\n',fontsize=20)\n",
    "plt.xlabel('\\nK Nearest Neighbor',fontsize=14)\n",
    "plt.ylabel('Scores Metric\\n',fontsize=14)\n",
    "plt.show()"
   ]
  },
  {
   "cell_type": "markdown",
   "metadata": {},
   "source": [
    "<div class=\"alert alert-block alert-warning\">\n",
    "Let's Visualize the plot of the best fit line by the KNN model below for a sample of data with only one x variable and y variable for simplicity:\n",
    "    <div>"
   ]
  },
  {
   "cell_type": "code",
   "execution_count": 597,
   "metadata": {},
   "outputs": [
    {
     "data": {
      "image/png": "[encoded data removed]",
      "text/plain": [
       "<Figure size 936x504 with 1 Axes>"
      ]
     },
     "metadata": {},
     "output_type": "display_data"
    }
   ],
   "source": [
    "from sklearn.neighbors import KNeighborsRegressor\n",
    "X_b = X_train[:60,14].reshape(-1,1)\n",
    "y_b = y_train[:60]\n",
    "knn_reg = KNeighborsRegressor(5)\n",
    "knn_reg.fit(X_b, y_b)\n",
    "cm=pd.DataFrame({'x':X_test[:60,14].tolist(),'y':y_test[:60].tolist()}).sort_values(by='x')\n",
    "y_predict = knn_reg.predict(cm['x'].values.reshape(-1,1))\n",
    "plt.figure(figsize=(13,7))\n",
    "plt.plot(cm['x'].tolist(), y_predict, c = 'r',label='Predicted line')\n",
    "plt.scatter(cm['x'].tolist(), cm['y'].tolist(),label='Test Data points')\n",
    "plt.title('\\nVisualization of the KNN model predictions\\n',fontsize=14)\n",
    "plt.xlabel('X feature (Test split)',fontsize=12)\n",
    "plt.ylabel('Y feature(Test & Predictions)',fontsize=12)\n",
    "plt.legend()\n",
    "plt.show()"
   ]
  },
  {
   "cell_type": "markdown",
   "metadata": {},
   "source": [
    "<div class=\"alert alert-block alert-info\">\n",
    "<b><font size=\"4\">  Linear Regression</font></b>"
   ]
  },
  {
   "cell_type": "code",
   "execution_count": 386,
   "metadata": {},
   "outputs": [
    {
     "name": "stdout",
     "output_type": "stream",
     "text": [
      "\n",
      "\n",
      "\"Linear Regression Model and the metrics\" :\n",
      "\n",
      "\t• Training score of the Linear Regression Model is : 0.6862569009065136\n",
      "\n",
      "\t• Testing score of the Linear Regression Model is : 0.6693799446228004\n",
      "\n",
      "\t• Root Mean Squared Error: 213052.7461756424 \n",
      "\n",
      "\t• R2 Score: 0.6693799446228004\n"
     ]
    }
   ],
   "source": [
    "np.random.seed(42)\n",
    "from sklearn.linear_model import LinearRegression\n",
    "lnreg=LinearRegression()\n",
    "lnreg.fit(X_train, y_train)\n",
    "print(f'\\n\\nLinear Regression Model and the metrics :\\n')\n",
    "print('\\t• Training score of the Linear Regression Model is :',lnreg.score(X_train, y_train))\n",
    "print('\\n\\t• Testing score of the Linear Regression Model is :',lnreg.score(X_test, y_test))\n",
    "pred= lnreg.predict(X_test)\n",
    "print(f'\\n\\t• Root Mean Squared Error: {np.sqrt(mean_squared_error(y_test, pred))} \\n\\n\\t• R2 Score: {r2_score(y_test,pred)}')"
   ]
  },
  {
   "cell_type": "markdown",
   "metadata": {},
   "source": [
    "<div class=\"alert alert-block alert-success\">     \n",
    "\n",
    "    \n",
    "From the above results we can see that the simple linear model yields \n",
    "    R<sup>2</sup> score of `0.669379`. The test score is relatively close to the training score.\n",
    "<div>"
   ]
  },
  {
   "cell_type": "code",
   "execution_count": 596,
   "metadata": {},
   "outputs": [
    {
     "data": {
      "image/png": "[encoded data removed]",
      "text/plain": [
       "<Figure size 936x504 with 1 Axes>"
      ]
     },
     "metadata": {},
     "output_type": "display_data"
    }
   ],
   "source": [
    "X_b = X_train[:60,14].reshape(-1,1)\n",
    "y_b = y_train[:60]\n",
    "lnreg=LinearRegression()\n",
    "lnreg.fit(X_b, y_b)\n",
    "cm=pd.DataFrame({'x':X_test[:60,14].tolist(),'y':y_test[:60].tolist()}).sort_values(by='x')\n",
    "y_predict = lnreg.predict(cm['x'].values.reshape(-1,1))\n",
    "plt.figure(figsize=(13,7))\n",
    "plt.plot(cm['x'].tolist(), y_predict, c = 'r',label='Predicted line')\n",
    "plt.scatter(cm['x'].tolist(), cm['y'].tolist(),label='Test Data points')\n",
    "plt.title('\\nVisualization of the Linear Regression model predictions\\n',fontsize=14)\n",
    "plt.xlabel('X feature (Test split)',fontsize=12)\n",
    "plt.ylabel('Y feature(Test & Predictions)',fontsize=12)\n",
    "plt.legend()\n",
    "plt.show()"
   ]
  },
  {
   "cell_type": "markdown",
   "metadata": {},
   "source": [
    "<div class=\"alert alert-block alert-info\">\n",
    "<b><font size=\"4\">  Ridge Regression</font></b>"
   ]
  },
  {
   "cell_type": "code",
   "execution_count": 388,
   "metadata": {},
   "outputs": [],
   "source": [
    "from sklearn.linear_model import Ridge"
   ]
  },
  {
   "cell_type": "code",
   "execution_count": 389,
   "metadata": {},
   "outputs": [
    {
     "data": {
      "text/plain": [
       "GridSearchCV(cv=6, error_score=nan,\n",
       "             estimator=Ridge(alpha=1.0, copy_X=True, fit_intercept=True,\n",
       "                             max_iter=None, normalize=False, random_state=0,\n",
       "                             solver='auto', tol=0.001),\n",
       "             iid='deprecated', n_jobs=-1,\n",
       "             param_grid={'alpha': [0.01, 0.1, 1, 20, 35, 50, 70, 100, 105, 110,\n",
       "                                   115, 120]},\n",
       "             pre_dispatch='2*n_jobs', refit=True, return_train_score=True,\n",
       "             scoring=None, verbose=0)"
      ]
     },
     "execution_count": 389,
     "metadata": {},
     "output_type": "execute_result"
    }
   ],
   "source": [
    "np.random.seed(42)\n",
    "parameters = {'alpha': [0.01,0.1,1,20,35,50,70,100,105,110,115,120]}\n",
    "ridge_reg = GridSearchCV(Ridge(random_state=0), parameters,return_train_score=True, cv=6, n_jobs=-1)\n",
    "ridge_reg.fit(X_train, y_train)"
   ]
  },
  {
   "cell_type": "code",
   "execution_count": 390,
   "metadata": {},
   "outputs": [
    {
     "data": {
      "text/plain": [
       "0.6690720986678249"
      ]
     },
     "execution_count": 390,
     "metadata": {},
     "output_type": "execute_result"
    }
   ],
   "source": [
    "ridge_reg.score(X_test, y_test)\n",
    "#R2 score"
   ]
  },
  {
   "cell_type": "code",
   "execution_count": 391,
   "metadata": {},
   "outputs": [
    {
     "name": "stdout",
     "output_type": "stream",
     "text": [
      "Best parameters: {'alpha': 120}\n",
      "Best cross-validation score: 0.6818547855881295\n"
     ]
    }
   ],
   "source": [
    "print(f'Best parameters: {ridge_reg.best_params_}')\n",
    "print(f'Best cross-validation score: {ridge_reg.best_score_}')\n",
    "#Grid Search to find the best scaling parameter and mean testing score"
   ]
  },
  {
   "cell_type": "code",
   "execution_count": 392,
   "metadata": {},
   "outputs": [
    {
     "data": {
      "text/html": [
       "<div>\n",
       "<style scoped>\n",
       "    .dataframe tbody tr th:only-of-type {\n",
       "        vertical-align: middle;\n",
       "    }\n",
       "\n",
       "    .dataframe tbody tr th {\n",
       "        vertical-align: top;\n",
       "    }\n",
       "\n",
       "    .dataframe thead th {\n",
       "        text-align: right;\n",
       "    }\n",
       "</style>\n",
       "<table border=\"1\" class=\"dataframe\">\n",
       "  <thead>\n",
       "    <tr style=\"text-align: right;\">\n",
       "      <th></th>\n",
       "      <th>mean_fit_time</th>\n",
       "      <th>std_fit_time</th>\n",
       "      <th>mean_score_time</th>\n",
       "      <th>std_score_time</th>\n",
       "      <th>param_alpha</th>\n",
       "      <th>params</th>\n",
       "      <th>split0_test_score</th>\n",
       "      <th>split1_test_score</th>\n",
       "      <th>split2_test_score</th>\n",
       "      <th>split3_test_score</th>\n",
       "      <th>...</th>\n",
       "      <th>std_test_score</th>\n",
       "      <th>rank_test_score</th>\n",
       "      <th>split0_train_score</th>\n",
       "      <th>split1_train_score</th>\n",
       "      <th>split2_train_score</th>\n",
       "      <th>split3_train_score</th>\n",
       "      <th>split4_train_score</th>\n",
       "      <th>split5_train_score</th>\n",
       "      <th>mean_train_score</th>\n",
       "      <th>std_train_score</th>\n",
       "    </tr>\n",
       "  </thead>\n",
       "  <tbody>\n",
       "    <tr>\n",
       "      <th>7</th>\n",
       "      <td>0.005760</td>\n",
       "      <td>0.001445</td>\n",
       "      <td>0.001265</td>\n",
       "      <td>0.000445</td>\n",
       "      <td>100</td>\n",
       "      <td>{'alpha': 100}</td>\n",
       "      <td>0.680354</td>\n",
       "      <td>0.631906</td>\n",
       "      <td>0.688713</td>\n",
       "      <td>0.684680</td>\n",
       "      <td>...</td>\n",
       "      <td>0.023941</td>\n",
       "      <td>5</td>\n",
       "      <td>0.687031</td>\n",
       "      <td>0.693888</td>\n",
       "      <td>0.685469</td>\n",
       "      <td>0.686292</td>\n",
       "      <td>0.683410</td>\n",
       "      <td>0.682807</td>\n",
       "      <td>0.686483</td>\n",
       "      <td>0.003632</td>\n",
       "    </tr>\n",
       "    <tr>\n",
       "      <th>8</th>\n",
       "      <td>0.005565</td>\n",
       "      <td>0.001824</td>\n",
       "      <td>0.001148</td>\n",
       "      <td>0.000118</td>\n",
       "      <td>105</td>\n",
       "      <td>{'alpha': 105}</td>\n",
       "      <td>0.680328</td>\n",
       "      <td>0.631942</td>\n",
       "      <td>0.688713</td>\n",
       "      <td>0.684664</td>\n",
       "      <td>...</td>\n",
       "      <td>0.023931</td>\n",
       "      <td>4</td>\n",
       "      <td>0.687029</td>\n",
       "      <td>0.693885</td>\n",
       "      <td>0.685466</td>\n",
       "      <td>0.686290</td>\n",
       "      <td>0.683408</td>\n",
       "      <td>0.682804</td>\n",
       "      <td>0.686480</td>\n",
       "      <td>0.003632</td>\n",
       "    </tr>\n",
       "    <tr>\n",
       "      <th>9</th>\n",
       "      <td>0.005065</td>\n",
       "      <td>0.001103</td>\n",
       "      <td>0.003055</td>\n",
       "      <td>0.002119</td>\n",
       "      <td>110</td>\n",
       "      <td>{'alpha': 110}</td>\n",
       "      <td>0.680302</td>\n",
       "      <td>0.631978</td>\n",
       "      <td>0.688712</td>\n",
       "      <td>0.684648</td>\n",
       "      <td>...</td>\n",
       "      <td>0.023921</td>\n",
       "      <td>3</td>\n",
       "      <td>0.687026</td>\n",
       "      <td>0.693882</td>\n",
       "      <td>0.685464</td>\n",
       "      <td>0.686287</td>\n",
       "      <td>0.683405</td>\n",
       "      <td>0.682802</td>\n",
       "      <td>0.686478</td>\n",
       "      <td>0.003632</td>\n",
       "    </tr>\n",
       "    <tr>\n",
       "      <th>10</th>\n",
       "      <td>0.007562</td>\n",
       "      <td>0.000532</td>\n",
       "      <td>0.002197</td>\n",
       "      <td>0.002276</td>\n",
       "      <td>115</td>\n",
       "      <td>{'alpha': 115}</td>\n",
       "      <td>0.680276</td>\n",
       "      <td>0.632013</td>\n",
       "      <td>0.688712</td>\n",
       "      <td>0.684632</td>\n",
       "      <td>...</td>\n",
       "      <td>0.023911</td>\n",
       "      <td>2</td>\n",
       "      <td>0.687024</td>\n",
       "      <td>0.693880</td>\n",
       "      <td>0.685461</td>\n",
       "      <td>0.686284</td>\n",
       "      <td>0.683402</td>\n",
       "      <td>0.682799</td>\n",
       "      <td>0.686475</td>\n",
       "      <td>0.003632</td>\n",
       "    </tr>\n",
       "    <tr>\n",
       "      <th>11</th>\n",
       "      <td>0.008497</td>\n",
       "      <td>0.003069</td>\n",
       "      <td>0.002378</td>\n",
       "      <td>0.003123</td>\n",
       "      <td>120</td>\n",
       "      <td>{'alpha': 120}</td>\n",
       "      <td>0.680250</td>\n",
       "      <td>0.632049</td>\n",
       "      <td>0.688711</td>\n",
       "      <td>0.684616</td>\n",
       "      <td>...</td>\n",
       "      <td>0.023902</td>\n",
       "      <td>1</td>\n",
       "      <td>0.687021</td>\n",
       "      <td>0.693877</td>\n",
       "      <td>0.685458</td>\n",
       "      <td>0.686281</td>\n",
       "      <td>0.683399</td>\n",
       "      <td>0.682796</td>\n",
       "      <td>0.686472</td>\n",
       "      <td>0.003632</td>\n",
       "    </tr>\n",
       "  </tbody>\n",
       "</table>\n",
       "<p>5 rows × 23 columns</p>\n",
       "</div>"
      ],
      "text/plain": [
       "    mean_fit_time  std_fit_time  mean_score_time  std_score_time param_alpha  \\\n",
       "7        0.005760      0.001445         0.001265        0.000445         100   \n",
       "8        0.005565      0.001824         0.001148        0.000118         105   \n",
       "9        0.005065      0.001103         0.003055        0.002119         110   \n",
       "10       0.007562      0.000532         0.002197        0.002276         115   \n",
       "11       0.008497      0.003069         0.002378        0.003123         120   \n",
       "\n",
       "            params  split0_test_score  split1_test_score  split2_test_score  \\\n",
       "7   {'alpha': 100}           0.680354           0.631906           0.688713   \n",
       "8   {'alpha': 105}           0.680328           0.631942           0.688713   \n",
       "9   {'alpha': 110}           0.680302           0.631978           0.688712   \n",
       "10  {'alpha': 115}           0.680276           0.632013           0.688712   \n",
       "11  {'alpha': 120}           0.680250           0.632049           0.688711   \n",
       "\n",
       "    split3_test_score  ...  std_test_score  rank_test_score  \\\n",
       "7            0.684680  ...        0.023941                5   \n",
       "8            0.684664  ...        0.023931                4   \n",
       "9            0.684648  ...        0.023921                3   \n",
       "10           0.684632  ...        0.023911                2   \n",
       "11           0.684616  ...        0.023902                1   \n",
       "\n",
       "    split0_train_score  split1_train_score  split2_train_score  \\\n",
       "7             0.687031            0.693888            0.685469   \n",
       "8             0.687029            0.693885            0.685466   \n",
       "9             0.687026            0.693882            0.685464   \n",
       "10            0.687024            0.693880            0.685461   \n",
       "11            0.687021            0.693877            0.685458   \n",
       "\n",
       "    split3_train_score  split4_train_score  split5_train_score  \\\n",
       "7             0.686292            0.683410            0.682807   \n",
       "8             0.686290            0.683408            0.682804   \n",
       "9             0.686287            0.683405            0.682802   \n",
       "10            0.686284            0.683402            0.682799   \n",
       "11            0.686281            0.683399            0.682796   \n",
       "\n",
       "    mean_train_score  std_train_score  \n",
       "7           0.686483         0.003632  \n",
       "8           0.686480         0.003632  \n",
       "9           0.686478         0.003632  \n",
       "10          0.686475         0.003632  \n",
       "11          0.686472         0.003632  \n",
       "\n",
       "[5 rows x 23 columns]"
      ]
     },
     "execution_count": 392,
     "metadata": {},
     "output_type": "execute_result"
    }
   ],
   "source": [
    "result=pd.DataFrame(ridge_reg.cv_results_)\n",
    "result.tail()"
   ]
  },
  {
   "cell_type": "code",
   "execution_count": 393,
   "metadata": {},
   "outputs": [
    {
     "name": "stdout",
     "output_type": "stream",
     "text": [
      "\n",
      "For alpha = 120\n",
      "\n",
      "\t• Cross validation Training score mean:  0.6864721154458823\n",
      "\n",
      "\t• Cross validation Testing score mean:  0.6818547855881295\n",
      "\n",
      "\t• R2 Score:  0.6690720986678249\n",
      "\n",
      "\t• Root Mean Squared Error:  213151.91161456838\n",
      "----------------------------------------------------------------------------\n"
     ]
    }
   ],
   "source": [
    "pred = ridge_reg.predict(X_test)\n",
    "print('\\nFor alpha =',result['param_alpha'][ridge_reg.best_index_])\n",
    "print('\\n\\t• Cross validation Training score mean: ',result['mean_train_score'][ridge_reg.best_index_])\n",
    "print('\\n\\t• Cross validation Testing score mean: ' ,ridge_reg.best_score_)\n",
    "print('\\n\\t• R2 Score: ',r2_score(y_test,pred))\n",
    "print('\\n\\t• Root Mean Squared Error: ', np.sqrt(mean_squared_error(y_test, pred)))\n",
    "print('----------------------------------------------------------------------------')"
   ]
  },
  {
   "cell_type": "markdown",
   "metadata": {},
   "source": [
    "<div class=\"alert alert-block alert-danger\">     \n",
    "\n",
    "From the above results we can see that the Ridge model yields the best results when `alpha =120` which leads to the best R<sup>2</sup> score of `0.669072` and it's worse than simple linear regression. As alpha become larger, the r2 score is getting near to the result of simple linear regression. In addition, the test score is relatively close to the training score, which indicates that there's no need to regularize the model.\n",
    "<div>"
   ]
  },
  {
   "cell_type": "markdown",
   "metadata": {},
   "source": [
    "<div class=\"alert alert-block alert-info\">\n",
    "<b><font size=\"4\">  LASSO Regression </font></b>"
   ]
  },
  {
   "cell_type": "code",
   "execution_count": 394,
   "metadata": {},
   "outputs": [],
   "source": [
    "from sklearn.linear_model import Lasso"
   ]
  },
  {
   "cell_type": "code",
   "execution_count": 395,
   "metadata": {},
   "outputs": [
    {
     "data": {
      "text/plain": [
       "GridSearchCV(cv=6, error_score=nan,\n",
       "             estimator=Lasso(alpha=1.0, copy_X=True, fit_intercept=True,\n",
       "                             max_iter=1000, normalize=False, positive=False,\n",
       "                             precompute=False, random_state=0,\n",
       "                             selection='cyclic', tol=0.0001, warm_start=False),\n",
       "             iid='deprecated', n_jobs=-1,\n",
       "             param_grid={'alpha': [0.001, 0.01, 0.1, 1, 20, 40, 60, 75, 80, 85,\n",
       "                                   90, 100, 120]},\n",
       "             pre_dispatch='2*n_jobs', refit=True, return_train_score=True,\n",
       "             scoring=None, verbose=0)"
      ]
     },
     "execution_count": 395,
     "metadata": {},
     "output_type": "execute_result"
    }
   ],
   "source": [
    "np.random.seed(42)\n",
    "params = {'alpha': [0.001,0.01,0.1, 1, 20, 40, 60, 75 ,80, 85, 90, 100, 120]}\n",
    "lasso_reg = GridSearchCV(Lasso(random_state=0), params,return_train_score=True, cv=6, n_jobs=-1)\n",
    "lasso_reg.fit(X_train, y_train)"
   ]
  },
  {
   "cell_type": "code",
   "execution_count": 396,
   "metadata": {},
   "outputs": [
    {
     "data": {
      "text/plain": [
       "0.6693526658985445"
      ]
     },
     "execution_count": 396,
     "metadata": {},
     "output_type": "execute_result"
    }
   ],
   "source": [
    "lasso_reg.score(X_test, y_test)\n",
    "#R2 score"
   ]
  },
  {
   "cell_type": "code",
   "execution_count": 397,
   "metadata": {},
   "outputs": [
    {
     "name": "stdout",
     "output_type": "stream",
     "text": [
      "Best parameters: {'alpha': 80}\n",
      "Best cross-validation score: 0.6817933726959152\n"
     ]
    }
   ],
   "source": [
    "print(f'Best parameters: {lasso_reg.best_params_}')\n",
    "print(f'Best cross-validation score: {lasso_reg.best_score_}')\n",
    "#Grid Search to find the best scaling parameter and mean testing score"
   ]
  },
  {
   "cell_type": "code",
   "execution_count": 208,
   "metadata": {},
   "outputs": [
    {
     "data": {
      "text/html": [
       "<div>\n",
       "<style scoped>\n",
       "    .dataframe tbody tr th:only-of-type {\n",
       "        vertical-align: middle;\n",
       "    }\n",
       "\n",
       "    .dataframe tbody tr th {\n",
       "        vertical-align: top;\n",
       "    }\n",
       "\n",
       "    .dataframe thead th {\n",
       "        text-align: right;\n",
       "    }\n",
       "</style>\n",
       "<table border=\"1\" class=\"dataframe\">\n",
       "  <thead>\n",
       "    <tr style=\"text-align: right;\">\n",
       "      <th></th>\n",
       "      <th>mean_fit_time</th>\n",
       "      <th>std_fit_time</th>\n",
       "      <th>mean_score_time</th>\n",
       "      <th>std_score_time</th>\n",
       "      <th>param_alpha</th>\n",
       "      <th>params</th>\n",
       "      <th>split0_test_score</th>\n",
       "      <th>split1_test_score</th>\n",
       "      <th>split2_test_score</th>\n",
       "      <th>split3_test_score</th>\n",
       "      <th>...</th>\n",
       "      <th>std_test_score</th>\n",
       "      <th>rank_test_score</th>\n",
       "      <th>split0_train_score</th>\n",
       "      <th>split1_train_score</th>\n",
       "      <th>split2_train_score</th>\n",
       "      <th>split3_train_score</th>\n",
       "      <th>split4_train_score</th>\n",
       "      <th>split5_train_score</th>\n",
       "      <th>mean_train_score</th>\n",
       "      <th>std_train_score</th>\n",
       "    </tr>\n",
       "  </thead>\n",
       "  <tbody>\n",
       "    <tr>\n",
       "      <th>8</th>\n",
       "      <td>0.399241</td>\n",
       "      <td>0.025061</td>\n",
       "      <td>0.001589</td>\n",
       "      <td>0.000231</td>\n",
       "      <td>80</td>\n",
       "      <td>{'alpha': 80}</td>\n",
       "      <td>0.680840</td>\n",
       "      <td>0.631251</td>\n",
       "      <td>0.688679</td>\n",
       "      <td>0.684936</td>\n",
       "      <td>...</td>\n",
       "      <td>0.024120</td>\n",
       "      <td>1</td>\n",
       "      <td>0.687053</td>\n",
       "      <td>0.693911</td>\n",
       "      <td>0.685493</td>\n",
       "      <td>0.686316</td>\n",
       "      <td>0.683435</td>\n",
       "      <td>0.682830</td>\n",
       "      <td>0.686506</td>\n",
       "      <td>0.003632</td>\n",
       "    </tr>\n",
       "    <tr>\n",
       "      <th>9</th>\n",
       "      <td>0.402348</td>\n",
       "      <td>0.026582</td>\n",
       "      <td>0.001658</td>\n",
       "      <td>0.000257</td>\n",
       "      <td>85</td>\n",
       "      <td>{'alpha': 85}</td>\n",
       "      <td>0.680786</td>\n",
       "      <td>0.631273</td>\n",
       "      <td>0.688678</td>\n",
       "      <td>0.684933</td>\n",
       "      <td>...</td>\n",
       "      <td>0.024113</td>\n",
       "      <td>6</td>\n",
       "      <td>0.687053</td>\n",
       "      <td>0.693911</td>\n",
       "      <td>0.685493</td>\n",
       "      <td>0.686316</td>\n",
       "      <td>0.683435</td>\n",
       "      <td>0.682830</td>\n",
       "      <td>0.686506</td>\n",
       "      <td>0.003632</td>\n",
       "    </tr>\n",
       "    <tr>\n",
       "      <th>10</th>\n",
       "      <td>0.343400</td>\n",
       "      <td>0.038499</td>\n",
       "      <td>0.001649</td>\n",
       "      <td>0.000190</td>\n",
       "      <td>90</td>\n",
       "      <td>{'alpha': 90}</td>\n",
       "      <td>0.680782</td>\n",
       "      <td>0.631280</td>\n",
       "      <td>0.688677</td>\n",
       "      <td>0.684931</td>\n",
       "      <td>...</td>\n",
       "      <td>0.024111</td>\n",
       "      <td>5</td>\n",
       "      <td>0.687053</td>\n",
       "      <td>0.693911</td>\n",
       "      <td>0.685492</td>\n",
       "      <td>0.686316</td>\n",
       "      <td>0.683435</td>\n",
       "      <td>0.682829</td>\n",
       "      <td>0.686506</td>\n",
       "      <td>0.003632</td>\n",
       "    </tr>\n",
       "    <tr>\n",
       "      <th>11</th>\n",
       "      <td>0.341998</td>\n",
       "      <td>0.032209</td>\n",
       "      <td>0.001463</td>\n",
       "      <td>0.000095</td>\n",
       "      <td>100</td>\n",
       "      <td>{'alpha': 100}</td>\n",
       "      <td>0.680772</td>\n",
       "      <td>0.631295</td>\n",
       "      <td>0.688675</td>\n",
       "      <td>0.684926</td>\n",
       "      <td>...</td>\n",
       "      <td>0.024108</td>\n",
       "      <td>3</td>\n",
       "      <td>0.687052</td>\n",
       "      <td>0.693910</td>\n",
       "      <td>0.685492</td>\n",
       "      <td>0.686315</td>\n",
       "      <td>0.683435</td>\n",
       "      <td>0.682829</td>\n",
       "      <td>0.686506</td>\n",
       "      <td>0.003632</td>\n",
       "    </tr>\n",
       "    <tr>\n",
       "      <th>12</th>\n",
       "      <td>0.253609</td>\n",
       "      <td>0.039109</td>\n",
       "      <td>0.001587</td>\n",
       "      <td>0.000757</td>\n",
       "      <td>120</td>\n",
       "      <td>{'alpha': 120}</td>\n",
       "      <td>0.680754</td>\n",
       "      <td>0.631324</td>\n",
       "      <td>0.688671</td>\n",
       "      <td>0.684915</td>\n",
       "      <td>...</td>\n",
       "      <td>0.024100</td>\n",
       "      <td>2</td>\n",
       "      <td>0.687051</td>\n",
       "      <td>0.693909</td>\n",
       "      <td>0.685491</td>\n",
       "      <td>0.686314</td>\n",
       "      <td>0.683434</td>\n",
       "      <td>0.682828</td>\n",
       "      <td>0.686505</td>\n",
       "      <td>0.003632</td>\n",
       "    </tr>\n",
       "  </tbody>\n",
       "</table>\n",
       "<p>5 rows × 23 columns</p>\n",
       "</div>"
      ],
      "text/plain": [
       "    mean_fit_time  std_fit_time  mean_score_time  std_score_time param_alpha  \\\n",
       "8        0.399241      0.025061         0.001589        0.000231          80   \n",
       "9        0.402348      0.026582         0.001658        0.000257          85   \n",
       "10       0.343400      0.038499         0.001649        0.000190          90   \n",
       "11       0.341998      0.032209         0.001463        0.000095         100   \n",
       "12       0.253609      0.039109         0.001587        0.000757         120   \n",
       "\n",
       "            params  split0_test_score  split1_test_score  split2_test_score  \\\n",
       "8    {'alpha': 80}           0.680840           0.631251           0.688679   \n",
       "9    {'alpha': 85}           0.680786           0.631273           0.688678   \n",
       "10   {'alpha': 90}           0.680782           0.631280           0.688677   \n",
       "11  {'alpha': 100}           0.680772           0.631295           0.688675   \n",
       "12  {'alpha': 120}           0.680754           0.631324           0.688671   \n",
       "\n",
       "    split3_test_score  ...  std_test_score  rank_test_score  \\\n",
       "8            0.684936  ...        0.024120                1   \n",
       "9            0.684933  ...        0.024113                6   \n",
       "10           0.684931  ...        0.024111                5   \n",
       "11           0.684926  ...        0.024108                3   \n",
       "12           0.684915  ...        0.024100                2   \n",
       "\n",
       "    split0_train_score  split1_train_score  split2_train_score  \\\n",
       "8             0.687053            0.693911            0.685493   \n",
       "9             0.687053            0.693911            0.685493   \n",
       "10            0.687053            0.693911            0.685492   \n",
       "11            0.687052            0.693910            0.685492   \n",
       "12            0.687051            0.693909            0.685491   \n",
       "\n",
       "    split3_train_score  split4_train_score  split5_train_score  \\\n",
       "8             0.686316            0.683435            0.682830   \n",
       "9             0.686316            0.683435            0.682830   \n",
       "10            0.686316            0.683435            0.682829   \n",
       "11            0.686315            0.683435            0.682829   \n",
       "12            0.686314            0.683434            0.682828   \n",
       "\n",
       "    mean_train_score  std_train_score  \n",
       "8           0.686506         0.003632  \n",
       "9           0.686506         0.003632  \n",
       "10          0.686506         0.003632  \n",
       "11          0.686506         0.003632  \n",
       "12          0.686505         0.003632  \n",
       "\n",
       "[5 rows x 23 columns]"
      ]
     },
     "execution_count": 208,
     "metadata": {},
     "output_type": "execute_result"
    }
   ],
   "source": [
    "result1=pd.DataFrame(lasso_reg.cv_results_)\n",
    "result1.tail()"
   ]
  },
  {
   "cell_type": "code",
   "execution_count": 398,
   "metadata": {},
   "outputs": [
    {
     "name": "stdout",
     "output_type": "stream",
     "text": [
      "\n",
      "For alpha = 80\n",
      "\n",
      "\t• Cross validation Training score mean:  0.6865062659506282\n",
      "\n",
      "\t• Cross validation Testing score mean:  0.6817933726959152\n",
      "\n",
      "\t• R2 Score:  0.6693526658985445\n",
      "\n",
      "\t• Root Mean Squared Error:  213061.53524809203\n",
      "----------------------------------------------------------------------------\n"
     ]
    }
   ],
   "source": [
    "preds = lasso_reg.predict(X_test)\n",
    "print('\\nFor alpha =',result1['param_alpha'][lasso_reg.best_index_])\n",
    "print('\\n\\t• Cross validation Training score mean: ',result1['mean_train_score'][lasso_reg.best_index_])\n",
    "print('\\n\\t• Cross validation Testing score mean: ' ,lasso_reg.best_score_)\n",
    "print('\\n\\t• R2 Score: ',r2_score(y_test,preds))\n",
    "print('\\n\\t• Root Mean Squared Error: ', np.sqrt(mean_squared_error(y_test, preds)))\n",
    "print('----------------------------------------------------------------------------')"
   ]
  },
  {
   "cell_type": "markdown",
   "metadata": {},
   "source": [
    "<div class=\"alert alert-block alert-danger\">     \n",
    "\n",
    "From the above results we can see that the Lasso model yields the best results when `alpha = 80` which leads to the best R<sup>2</sup> score of `0.669352` and it's about the same as simple linear regression. \n",
    "<div>"
   ]
  },
  {
   "cell_type": "markdown",
   "metadata": {},
   "source": [
    "<div class=\"alert alert-block alert-info\">\n",
    "<b><font size=\"4\">  Polynomial Regression   </font></b>"
   ]
  },
  {
   "cell_type": "code",
   "execution_count": 559,
   "metadata": {},
   "outputs": [],
   "source": [
    "from sklearn.preprocessing import PolynomialFeatures"
   ]
  },
  {
   "cell_type": "code",
   "execution_count": 569,
   "metadata": {},
   "outputs": [
    {
     "name": "stdout",
     "output_type": "stream",
     "text": [
      "\n",
      "For degree = 1\n",
      "\n",
      "\t• Training score:  0.6862221432528335\n",
      "\n",
      "\t• Testing score:  0.669329084172744\n",
      "\n",
      "\t• Root Mean Squared Error: 213069.1328734223 \n",
      "\n",
      "\t• R2 Score: 0.669329084172744\n",
      "----------------------------------------------------------------------------\n",
      "\n",
      "For degree = 2\n",
      "\n",
      "\t• Training score:  0.8211326089514348\n",
      "\n",
      "\t• Testing score:  0.812826115592471\n",
      "\n",
      "\t• Root Mean Squared Error: 160304.29777688178 \n",
      "\n",
      "\t• R2 Score: 0.812826115592471\n",
      "----------------------------------------------------------------------------\n",
      "\n",
      "For degree = 3\n",
      "\n",
      "\t• Training score:  0.8994938952479923\n",
      "\n",
      "\t• Testing score:  -3.712512251266309e+16\n",
      "\n",
      "\t• Root Mean Squared Error: 71393140598495.72 \n",
      "\n",
      "\t• R2 Score: -3.712512251266309e+16\n",
      "----------------------------------------------------------------------------\n"
     ]
    }
   ],
   "source": [
    "np.random.seed(42)\n",
    "train_score_list = []\n",
    "test_score_list = []\n",
    "\n",
    "for n in range(1,4): \n",
    "    poly = PolynomialFeatures(n)\n",
    "    X_train_poly = poly.fit_transform(X_train)\n",
    "    X_test_poly = poly.transform(X_test)\n",
    "    print('\\nFor degree =', n)\n",
    "    lnreg.fit(X_train_poly,y_train)\n",
    "    y_pred=lnreg.predict(X_test_poly)\n",
    "    train_score_list.append(lnreg.score(X_train_poly,y_train))\n",
    "    test_score_list.append(lnreg.score(X_test_poly, y_test))\n",
    "    print('\\n\\t• Training score: ',train_score_list[-1])\n",
    "    print('\\n\\t• Testing score: ',test_score_list[-1])\n",
    "    print(f'\\n\\t• Root Mean Squared Error: {np.sqrt(mean_squared_error(y_test, y_pred))} \\n\\n\\t• R2 Score: {r2_score(y_test,y_pred)}')\n",
    "    print('----------------------------------------------------------------------------')"
   ]
  },
  {
   "cell_type": "markdown",
   "metadata": {},
   "source": [
    "<div class=\"alert alert-block alert-danger\">\n",
    "\n",
    "From the above results we can see that the Polynomial Regression model yields the best results when `degree=2`which leads to the best R<sup>2</sup> score of `0.812826` which is the maximum score of all the models we  build. \n",
    "<div>"
   ]
  },
  {
   "cell_type": "markdown",
   "metadata": {},
   "source": [
    "<div class=\"alert alert-block alert-success\">Let's visualize the best fitted line by the Polynomial Model "
   ]
  },
  {
   "cell_type": "code",
   "execution_count": 599,
   "metadata": {},
   "outputs": [
    {
     "data": {
      "image/png": "[encoded data removed]",
      "text/plain": [
       "<Figure size 936x504 with 1 Axes>"
      ]
     },
     "metadata": {},
     "output_type": "display_data"
    }
   ],
   "source": [
    "X_b = X_train_poly[:100,14].reshape(-1,1)\n",
    "y_b = y_train[:100]\n",
    "lnreg.fit(X_b, y_b)\n",
    "cm=pd.DataFrame({'x':X_test_poly[:100,14].tolist(),'y':y_test[:100].tolist()}).sort_values(by='x')\n",
    "y_predict = lnreg.predict(cm['x'].values.reshape(-1,1))\n",
    "plt.figure(figsize=(13,7))\n",
    "plt.plot(cm['x'].tolist(), y_predict, c = 'k',label='Predicted line')\n",
    "plt.scatter(cm['x'].tolist(), cm['y'].tolist(),label='Test Data points')\n",
    "plt.title('\\nVisualization of the Polynomial Regression model predictions\\n',fontsize=14)\n",
    "plt.xlabel('X feature (Test split)',fontsize=12)\n",
    "plt.ylabel('Y feature(Test & Predictions)',fontsize=12)\n",
    "plt.legend()\n",
    "plt.show()"
   ]
  },
  {
   "cell_type": "markdown",
   "metadata": {},
   "source": [
    "<div class=\"alert alert-block alert-info\">\n",
    "<b><font size=\"4\">  Linear Support Vector Regressor </font></b>"
   ]
  },
  {
   "cell_type": "code",
   "execution_count": 399,
   "metadata": {},
   "outputs": [],
   "source": [
    "from sklearn.svm import LinearSVR"
   ]
  },
  {
   "cell_type": "code",
   "execution_count": 527,
   "metadata": {},
   "outputs": [
    {
     "data": {
      "text/plain": [
       "GridSearchCV(cv=6, error_score=nan,\n",
       "             estimator=LinearSVR(C=1.0, dual=True, epsilon=0.0,\n",
       "                                 fit_intercept=True, intercept_scaling=1.0,\n",
       "                                 loss='epsilon_insensitive', max_iter=1000,\n",
       "                                 random_state=0, tol=0.0001, verbose=0),\n",
       "             iid='deprecated', n_jobs=-1,\n",
       "             param_grid={'C': [0.01, 0.1, 1, 10, 100, 1000, 8450, 9000]},\n",
       "             pre_dispatch='2*n_jobs', refit=True, return_train_score=True,\n",
       "             scoring=None, verbose=0)"
      ]
     },
     "execution_count": 527,
     "metadata": {},
     "output_type": "execute_result"
    }
   ],
   "source": [
    "np.random.seed(42)\n",
    "params_C = {'C': [0.01,0.1,1,10,100,1000,8450,9000]}\n",
    "svreg = GridSearchCV(LinearSVR(random_state=0), params_C,return_train_score=True, cv=6, n_jobs=-1)\n",
    "svreg.fit(X_train, y_train)"
   ]
  },
  {
   "cell_type": "code",
   "execution_count": 528,
   "metadata": {},
   "outputs": [
    {
     "data": {
      "text/plain": [
       "0.6168500211191095"
      ]
     },
     "execution_count": 528,
     "metadata": {},
     "output_type": "execute_result"
    }
   ],
   "source": [
    "svreg.score(X_test, y_test)\n",
    "#R2 score"
   ]
  },
  {
   "cell_type": "code",
   "execution_count": 529,
   "metadata": {},
   "outputs": [
    {
     "name": "stdout",
     "output_type": "stream",
     "text": [
      "Best parameters: {'C': 8450}\n",
      "Best cross-validation score: 0.6398207846569269\n"
     ]
    }
   ],
   "source": [
    "print(f'Best parameters: {svreg.best_params_}')\n",
    "print(f'Best cross-validation score: {svreg.best_score_}')\n",
    "#Grid Search to find the best scaling parameter and mean testing score"
   ]
  },
  {
   "cell_type": "code",
   "execution_count": 533,
   "metadata": {},
   "outputs": [
    {
     "data": {
      "text/html": [
       "<div>\n",
       "<style scoped>\n",
       "    .dataframe tbody tr th:only-of-type {\n",
       "        vertical-align: middle;\n",
       "    }\n",
       "\n",
       "    .dataframe tbody tr th {\n",
       "        vertical-align: top;\n",
       "    }\n",
       "\n",
       "    .dataframe thead th {\n",
       "        text-align: right;\n",
       "    }\n",
       "</style>\n",
       "<table border=\"1\" class=\"dataframe\">\n",
       "  <thead>\n",
       "    <tr style=\"text-align: right;\">\n",
       "      <th></th>\n",
       "      <th>mean_fit_time</th>\n",
       "      <th>std_fit_time</th>\n",
       "      <th>mean_score_time</th>\n",
       "      <th>std_score_time</th>\n",
       "      <th>param_C</th>\n",
       "      <th>params</th>\n",
       "      <th>split0_test_score</th>\n",
       "      <th>split1_test_score</th>\n",
       "      <th>split2_test_score</th>\n",
       "      <th>split3_test_score</th>\n",
       "      <th>...</th>\n",
       "      <th>std_test_score</th>\n",
       "      <th>rank_test_score</th>\n",
       "      <th>split0_train_score</th>\n",
       "      <th>split1_train_score</th>\n",
       "      <th>split2_train_score</th>\n",
       "      <th>split3_train_score</th>\n",
       "      <th>split4_train_score</th>\n",
       "      <th>split5_train_score</th>\n",
       "      <th>mean_train_score</th>\n",
       "      <th>std_train_score</th>\n",
       "    </tr>\n",
       "  </thead>\n",
       "  <tbody>\n",
       "    <tr>\n",
       "      <th>3</th>\n",
       "      <td>0.016962</td>\n",
       "      <td>0.008365</td>\n",
       "      <td>0.001205</td>\n",
       "      <td>0.000263</td>\n",
       "      <td>10</td>\n",
       "      <td>{'C': 10}</td>\n",
       "      <td>-1.101470</td>\n",
       "      <td>-1.565793</td>\n",
       "      <td>-1.235661</td>\n",
       "      <td>-1.104198</td>\n",
       "      <td>...</td>\n",
       "      <td>0.164482</td>\n",
       "      <td>5</td>\n",
       "      <td>-1.314541</td>\n",
       "      <td>-1.224325</td>\n",
       "      <td>-1.268399</td>\n",
       "      <td>-1.303806</td>\n",
       "      <td>-1.257297</td>\n",
       "      <td>-1.239967</td>\n",
       "      <td>-1.268056</td>\n",
       "      <td>0.032291</td>\n",
       "    </tr>\n",
       "    <tr>\n",
       "      <th>4</th>\n",
       "      <td>0.038578</td>\n",
       "      <td>0.014014</td>\n",
       "      <td>0.001508</td>\n",
       "      <td>0.000359</td>\n",
       "      <td>100</td>\n",
       "      <td>{'C': 100}</td>\n",
       "      <td>0.495858</td>\n",
       "      <td>0.513004</td>\n",
       "      <td>0.510088</td>\n",
       "      <td>0.497683</td>\n",
       "      <td>...</td>\n",
       "      <td>0.013663</td>\n",
       "      <td>4</td>\n",
       "      <td>0.516156</td>\n",
       "      <td>0.516901</td>\n",
       "      <td>0.510662</td>\n",
       "      <td>0.512639</td>\n",
       "      <td>0.503612</td>\n",
       "      <td>0.506617</td>\n",
       "      <td>0.511098</td>\n",
       "      <td>0.004795</td>\n",
       "    </tr>\n",
       "    <tr>\n",
       "      <th>5</th>\n",
       "      <td>0.056342</td>\n",
       "      <td>0.017793</td>\n",
       "      <td>0.001813</td>\n",
       "      <td>0.000750</td>\n",
       "      <td>1000</td>\n",
       "      <td>{'C': 1000}</td>\n",
       "      <td>0.608238</td>\n",
       "      <td>0.618172</td>\n",
       "      <td>0.633826</td>\n",
       "      <td>0.617964</td>\n",
       "      <td>...</td>\n",
       "      <td>0.017171</td>\n",
       "      <td>3</td>\n",
       "      <td>0.634017</td>\n",
       "      <td>0.637189</td>\n",
       "      <td>0.630463</td>\n",
       "      <td>0.634049</td>\n",
       "      <td>0.626049</td>\n",
       "      <td>0.623947</td>\n",
       "      <td>0.630952</td>\n",
       "      <td>0.004677</td>\n",
       "    </tr>\n",
       "    <tr>\n",
       "      <th>6</th>\n",
       "      <td>0.177732</td>\n",
       "      <td>0.038502</td>\n",
       "      <td>0.002059</td>\n",
       "      <td>0.001671</td>\n",
       "      <td>8450</td>\n",
       "      <td>{'C': 8450}</td>\n",
       "      <td>0.617793</td>\n",
       "      <td>0.622108</td>\n",
       "      <td>0.646117</td>\n",
       "      <td>0.629086</td>\n",
       "      <td>...</td>\n",
       "      <td>0.018356</td>\n",
       "      <td>1</td>\n",
       "      <td>0.644387</td>\n",
       "      <td>0.646124</td>\n",
       "      <td>0.641186</td>\n",
       "      <td>0.644474</td>\n",
       "      <td>0.635276</td>\n",
       "      <td>0.634468</td>\n",
       "      <td>0.640986</td>\n",
       "      <td>0.004569</td>\n",
       "    </tr>\n",
       "    <tr>\n",
       "      <th>7</th>\n",
       "      <td>0.159174</td>\n",
       "      <td>0.024116</td>\n",
       "      <td>0.001875</td>\n",
       "      <td>0.001549</td>\n",
       "      <td>9000</td>\n",
       "      <td>{'C': 9000}</td>\n",
       "      <td>0.619319</td>\n",
       "      <td>0.619393</td>\n",
       "      <td>0.644626</td>\n",
       "      <td>0.629252</td>\n",
       "      <td>...</td>\n",
       "      <td>0.018225</td>\n",
       "      <td>2</td>\n",
       "      <td>0.645563</td>\n",
       "      <td>0.647533</td>\n",
       "      <td>0.639550</td>\n",
       "      <td>0.644441</td>\n",
       "      <td>0.634571</td>\n",
       "      <td>0.634176</td>\n",
       "      <td>0.640972</td>\n",
       "      <td>0.005249</td>\n",
       "    </tr>\n",
       "  </tbody>\n",
       "</table>\n",
       "<p>5 rows × 23 columns</p>\n",
       "</div>"
      ],
      "text/plain": [
       "   mean_fit_time  std_fit_time  mean_score_time  std_score_time param_C  \\\n",
       "3       0.016962      0.008365         0.001205        0.000263      10   \n",
       "4       0.038578      0.014014         0.001508        0.000359     100   \n",
       "5       0.056342      0.017793         0.001813        0.000750    1000   \n",
       "6       0.177732      0.038502         0.002059        0.001671    8450   \n",
       "7       0.159174      0.024116         0.001875        0.001549    9000   \n",
       "\n",
       "        params  split0_test_score  split1_test_score  split2_test_score  \\\n",
       "3    {'C': 10}          -1.101470          -1.565793          -1.235661   \n",
       "4   {'C': 100}           0.495858           0.513004           0.510088   \n",
       "5  {'C': 1000}           0.608238           0.618172           0.633826   \n",
       "6  {'C': 8450}           0.617793           0.622108           0.646117   \n",
       "7  {'C': 9000}           0.619319           0.619393           0.644626   \n",
       "\n",
       "   split3_test_score  ...  std_test_score  rank_test_score  \\\n",
       "3          -1.104198  ...        0.164482                5   \n",
       "4           0.497683  ...        0.013663                4   \n",
       "5           0.617964  ...        0.017171                3   \n",
       "6           0.629086  ...        0.018356                1   \n",
       "7           0.629252  ...        0.018225                2   \n",
       "\n",
       "   split0_train_score  split1_train_score  split2_train_score  \\\n",
       "3           -1.314541           -1.224325           -1.268399   \n",
       "4            0.516156            0.516901            0.510662   \n",
       "5            0.634017            0.637189            0.630463   \n",
       "6            0.644387            0.646124            0.641186   \n",
       "7            0.645563            0.647533            0.639550   \n",
       "\n",
       "   split3_train_score  split4_train_score  split5_train_score  \\\n",
       "3           -1.303806           -1.257297           -1.239967   \n",
       "4            0.512639            0.503612            0.506617   \n",
       "5            0.634049            0.626049            0.623947   \n",
       "6            0.644474            0.635276            0.634468   \n",
       "7            0.644441            0.634571            0.634176   \n",
       "\n",
       "   mean_train_score  std_train_score  \n",
       "3         -1.268056         0.032291  \n",
       "4          0.511098         0.004795  \n",
       "5          0.630952         0.004677  \n",
       "6          0.640986         0.004569  \n",
       "7          0.640972         0.005249  \n",
       "\n",
       "[5 rows x 23 columns]"
      ]
     },
     "execution_count": 533,
     "metadata": {},
     "output_type": "execute_result"
    }
   ],
   "source": [
    "result3=pd.DataFrame(svreg.cv_results_)\n",
    "result3.tail()"
   ]
  },
  {
   "cell_type": "code",
   "execution_count": 534,
   "metadata": {},
   "outputs": [
    {
     "name": "stdout",
     "output_type": "stream",
     "text": [
      "\n",
      "For C = 8450\n",
      "\n",
      "\t• Cross validation Training score mean:  0.6409859129240599\n",
      "\n",
      "\t• Cross validation Testing score mean:  0.6398207846569269\n",
      "\n",
      "\t• R2 Score:  0.6168500211191095\n",
      "\n",
      "\t• Root Mean Squared Error:  229354.329303227\n",
      "----------------------------------------------------------------------------\n"
     ]
    }
   ],
   "source": [
    "y_preds = svreg.predict(X_test)\n",
    "print('\\nFor C =',result3['param_C'][svreg.best_index_])\n",
    "print('\\n\\t• Cross validation Training score mean: ',result3['mean_train_score'][svreg.best_index_])\n",
    "print('\\n\\t• Cross validation Testing score mean: ' ,svreg.best_score_)\n",
    "print('\\n\\t• R2 Score: ',r2_score(y_test,y_preds))\n",
    "print('\\n\\t• Root Mean Squared Error: ', np.sqrt(mean_squared_error(y_test, y_preds)))\n",
    "print('----------------------------------------------------------------------------')"
   ]
  },
  {
   "cell_type": "markdown",
   "metadata": {},
   "source": [
    "<div class=\"alert alert-block alert-success\">Let's visualize the best fitted line by the Linear SVR Model "
   ]
  },
  {
   "cell_type": "code",
   "execution_count": 593,
   "metadata": {},
   "outputs": [
    {
     "data": {
      "image/png": "[encoded data removed]",
      "text/plain": [
       "<Figure size 936x504 with 1 Axes>"
      ]
     },
     "metadata": {},
     "output_type": "display_data"
    }
   ],
   "source": [
    "X_b = X_train[:80,14].reshape(-1,1)\n",
    "y_b = y_train[:80]\n",
    "svregt = LinearSVR(random_state=0,C=8450)\n",
    "svregt.fit(X_b, y_b)\n",
    "cm=pd.DataFrame({'x':X_test[:80,14].tolist(),'y':y_test[:80].tolist()}).sort_values(by='x')\n",
    "y_predict = svregt.predict(cm['x'].values.reshape(-1,1))\n",
    "plt.figure(figsize=(13,7))\n",
    "plt.plot(cm['x'].tolist(), y_predict, c = 'b',label='Predicted line')\n",
    "plt.scatter(cm['x'].tolist(), cm['y'].tolist(),label='Test Data points',c='c')\n",
    "plt.title('\\nVisualization of the Linear SVR model predictions\\n',fontsize=14)\n",
    "plt.xlabel('X feature (Test split)',fontsize=12)\n",
    "plt.ylabel('Y feature(Test & Predictions)',fontsize=12)\n",
    "plt.legend()\n",
    "plt.show()"
   ]
  },
  {
   "cell_type": "markdown",
   "metadata": {},
   "source": [
    "<div class=\"alert alert-block alert-danger\">\n",
    "\n",
    "From the above results we can see that the Linear Support Vector Regressor model yields the best results when `C = 8450`which leads to the best R<sup>2</sup> score of `0.616850` \n",
    "<div>"
   ]
  },
  {
   "cell_type": "markdown",
   "metadata": {},
   "source": [
    "<div class=\"alert alert-block alert-info\">\n",
    "<b><font size=\"4\">  SVM- Kernal RBF (Radial Bias Function) Regressor </font></b>"
   ]
  },
  {
   "cell_type": "code",
   "execution_count": 334,
   "metadata": {},
   "outputs": [],
   "source": [
    "from sklearn.svm import SVR"
   ]
  },
  {
   "cell_type": "code",
   "execution_count": 543,
   "metadata": {},
   "outputs": [
    {
     "data": {
      "text/plain": [
       "GridSearchCV(cv=6, error_score=nan,\n",
       "             estimator=SVR(C=1.0, cache_size=200, coef0=0.0, degree=3,\n",
       "                           epsilon=0.1, gamma='scale', kernel='rbf',\n",
       "                           max_iter=-1, shrinking=True, tol=0.001,\n",
       "                           verbose=False),\n",
       "             iid='deprecated', n_jobs=-1,\n",
       "             param_grid={'C': [0.01, 0.1, 1, 10, 1000, 5000],\n",
       "                         'gamma': [0.0001, 0.001, 0.1, 10, 1000]},\n",
       "             pre_dispatch='2*n_jobs', refit=True, return_train_score=True,\n",
       "             scoring=None, verbose=0)"
      ]
     },
     "execution_count": 543,
     "metadata": {},
     "output_type": "execute_result"
    }
   ],
   "source": [
    "np.random.seed(42)\n",
    "param_grid = {'C': [0.01, 0.1, 1, 10, 1000, 5000],\n",
    "              'gamma': [0.0001, 0.001, 0.1, 10, 1000]}\n",
    "svregrbf = GridSearchCV(SVR(kernel='rbf'), param_grid,return_train_score=True, cv=6, n_jobs=-1)\n",
    "svregrbf.fit(X_train, y_train)"
   ]
  },
  {
   "cell_type": "code",
   "execution_count": 556,
   "metadata": {},
   "outputs": [
    {
     "data": {
      "text/plain": [
       "0.4479152864018309"
      ]
     },
     "execution_count": 556,
     "metadata": {},
     "output_type": "execute_result"
    }
   ],
   "source": [
    "svregrbf.score(X_test, y_test)\n",
    "#R2 score"
   ]
  },
  {
   "cell_type": "code",
   "execution_count": 554,
   "metadata": {},
   "outputs": [
    {
     "name": "stdout",
     "output_type": "stream",
     "text": [
      "Best parameters: {'C': 5000, 'gamma': 0.001}\n",
      "Best cross-validation score: 0.43926358910296265\n"
     ]
    }
   ],
   "source": [
    "print(f'Best parameters: {svregrbf.best_params_}')\n",
    "print(f'Best cross-validation score: {svregrbf.best_score_}')\n",
    "#Grid Search to find the best scaling parameter and mean testing score"
   ]
  },
  {
   "cell_type": "code",
   "execution_count": 555,
   "metadata": {},
   "outputs": [
    {
     "data": {
      "text/html": [
       "<div>\n",
       "<style scoped>\n",
       "    .dataframe tbody tr th:only-of-type {\n",
       "        vertical-align: middle;\n",
       "    }\n",
       "\n",
       "    .dataframe tbody tr th {\n",
       "        vertical-align: top;\n",
       "    }\n",
       "\n",
       "    .dataframe thead th {\n",
       "        text-align: right;\n",
       "    }\n",
       "</style>\n",
       "<table border=\"1\" class=\"dataframe\">\n",
       "  <thead>\n",
       "    <tr style=\"text-align: right;\">\n",
       "      <th></th>\n",
       "      <th>mean_fit_time</th>\n",
       "      <th>std_fit_time</th>\n",
       "      <th>mean_score_time</th>\n",
       "      <th>std_score_time</th>\n",
       "      <th>param_C</th>\n",
       "      <th>param_gamma</th>\n",
       "      <th>params</th>\n",
       "      <th>split0_test_score</th>\n",
       "      <th>split1_test_score</th>\n",
       "      <th>split2_test_score</th>\n",
       "      <th>...</th>\n",
       "      <th>std_test_score</th>\n",
       "      <th>rank_test_score</th>\n",
       "      <th>split0_train_score</th>\n",
       "      <th>split1_train_score</th>\n",
       "      <th>split2_train_score</th>\n",
       "      <th>split3_train_score</th>\n",
       "      <th>split4_train_score</th>\n",
       "      <th>split5_train_score</th>\n",
       "      <th>mean_train_score</th>\n",
       "      <th>std_train_score</th>\n",
       "    </tr>\n",
       "  </thead>\n",
       "  <tbody>\n",
       "    <tr>\n",
       "      <th>25</th>\n",
       "      <td>10.989180</td>\n",
       "      <td>0.115535</td>\n",
       "      <td>1.459927</td>\n",
       "      <td>0.014296</td>\n",
       "      <td>5000</td>\n",
       "      <td>0.0001</td>\n",
       "      <td>{'C': 5000, 'gamma': 0.0001}</td>\n",
       "      <td>0.062241</td>\n",
       "      <td>0.064466</td>\n",
       "      <td>0.060769</td>\n",
       "      <td>...</td>\n",
       "      <td>0.007100</td>\n",
       "      <td>5</td>\n",
       "      <td>0.063137</td>\n",
       "      <td>0.063472</td>\n",
       "      <td>0.063344</td>\n",
       "      <td>0.063683</td>\n",
       "      <td>0.062360</td>\n",
       "      <td>0.062635</td>\n",
       "      <td>0.063105</td>\n",
       "      <td>0.000466</td>\n",
       "    </tr>\n",
       "    <tr>\n",
       "      <th>26</th>\n",
       "      <td>10.648946</td>\n",
       "      <td>0.106488</td>\n",
       "      <td>1.479130</td>\n",
       "      <td>0.038936</td>\n",
       "      <td>5000</td>\n",
       "      <td>0.001</td>\n",
       "      <td>{'C': 5000, 'gamma': 0.001}</td>\n",
       "      <td>0.420370</td>\n",
       "      <td>0.457952</td>\n",
       "      <td>0.431691</td>\n",
       "      <td>...</td>\n",
       "      <td>0.016668</td>\n",
       "      <td>1</td>\n",
       "      <td>0.443019</td>\n",
       "      <td>0.435232</td>\n",
       "      <td>0.439152</td>\n",
       "      <td>0.438136</td>\n",
       "      <td>0.433564</td>\n",
       "      <td>0.436583</td>\n",
       "      <td>0.437614</td>\n",
       "      <td>0.003027</td>\n",
       "    </tr>\n",
       "    <tr>\n",
       "      <th>27</th>\n",
       "      <td>10.132794</td>\n",
       "      <td>0.076331</td>\n",
       "      <td>1.450976</td>\n",
       "      <td>0.035232</td>\n",
       "      <td>5000</td>\n",
       "      <td>0.1</td>\n",
       "      <td>{'C': 5000, 'gamma': 0.1}</td>\n",
       "      <td>0.364950</td>\n",
       "      <td>0.490309</td>\n",
       "      <td>0.381761</td>\n",
       "      <td>...</td>\n",
       "      <td>0.045214</td>\n",
       "      <td>2</td>\n",
       "      <td>0.415316</td>\n",
       "      <td>0.397276</td>\n",
       "      <td>0.411544</td>\n",
       "      <td>0.420146</td>\n",
       "      <td>0.402182</td>\n",
       "      <td>0.403984</td>\n",
       "      <td>0.408408</td>\n",
       "      <td>0.007933</td>\n",
       "    </tr>\n",
       "    <tr>\n",
       "      <th>28</th>\n",
       "      <td>11.132965</td>\n",
       "      <td>0.161035</td>\n",
       "      <td>1.494853</td>\n",
       "      <td>0.019685</td>\n",
       "      <td>5000</td>\n",
       "      <td>10</td>\n",
       "      <td>{'C': 5000, 'gamma': 10}</td>\n",
       "      <td>-0.049967</td>\n",
       "      <td>-0.061850</td>\n",
       "      <td>-0.055107</td>\n",
       "      <td>...</td>\n",
       "      <td>0.008095</td>\n",
       "      <td>8</td>\n",
       "      <td>-0.038080</td>\n",
       "      <td>-0.038968</td>\n",
       "      <td>-0.037546</td>\n",
       "      <td>-0.037570</td>\n",
       "      <td>-0.037561</td>\n",
       "      <td>-0.038505</td>\n",
       "      <td>-0.038038</td>\n",
       "      <td>0.000544</td>\n",
       "    </tr>\n",
       "    <tr>\n",
       "      <th>29</th>\n",
       "      <td>7.754318</td>\n",
       "      <td>0.191622</td>\n",
       "      <td>1.061465</td>\n",
       "      <td>0.026745</td>\n",
       "      <td>5000</td>\n",
       "      <td>1000</td>\n",
       "      <td>{'C': 5000, 'gamma': 1000}</td>\n",
       "      <td>-0.053326</td>\n",
       "      <td>-0.067205</td>\n",
       "      <td>-0.059074</td>\n",
       "      <td>...</td>\n",
       "      <td>0.008182</td>\n",
       "      <td>10</td>\n",
       "      <td>-0.041925</td>\n",
       "      <td>-0.042893</td>\n",
       "      <td>-0.041673</td>\n",
       "      <td>-0.041448</td>\n",
       "      <td>-0.041645</td>\n",
       "      <td>-0.042226</td>\n",
       "      <td>-0.041969</td>\n",
       "      <td>0.000480</td>\n",
       "    </tr>\n",
       "  </tbody>\n",
       "</table>\n",
       "<p>5 rows × 24 columns</p>\n",
       "</div>"
      ],
      "text/plain": [
       "    mean_fit_time  std_fit_time  mean_score_time  std_score_time param_C  \\\n",
       "25      10.989180      0.115535         1.459927        0.014296    5000   \n",
       "26      10.648946      0.106488         1.479130        0.038936    5000   \n",
       "27      10.132794      0.076331         1.450976        0.035232    5000   \n",
       "28      11.132965      0.161035         1.494853        0.019685    5000   \n",
       "29       7.754318      0.191622         1.061465        0.026745    5000   \n",
       "\n",
       "   param_gamma                        params  split0_test_score  \\\n",
       "25      0.0001  {'C': 5000, 'gamma': 0.0001}           0.062241   \n",
       "26       0.001   {'C': 5000, 'gamma': 0.001}           0.420370   \n",
       "27         0.1     {'C': 5000, 'gamma': 0.1}           0.364950   \n",
       "28          10      {'C': 5000, 'gamma': 10}          -0.049967   \n",
       "29        1000    {'C': 5000, 'gamma': 1000}          -0.053326   \n",
       "\n",
       "    split1_test_score  split2_test_score  ...  std_test_score  \\\n",
       "25           0.064466           0.060769  ...        0.007100   \n",
       "26           0.457952           0.431691  ...        0.016668   \n",
       "27           0.490309           0.381761  ...        0.045214   \n",
       "28          -0.061850          -0.055107  ...        0.008095   \n",
       "29          -0.067205          -0.059074  ...        0.008182   \n",
       "\n",
       "    rank_test_score  split0_train_score  split1_train_score  \\\n",
       "25                5            0.063137            0.063472   \n",
       "26                1            0.443019            0.435232   \n",
       "27                2            0.415316            0.397276   \n",
       "28                8           -0.038080           -0.038968   \n",
       "29               10           -0.041925           -0.042893   \n",
       "\n",
       "    split2_train_score  split3_train_score  split4_train_score  \\\n",
       "25            0.063344            0.063683            0.062360   \n",
       "26            0.439152            0.438136            0.433564   \n",
       "27            0.411544            0.420146            0.402182   \n",
       "28           -0.037546           -0.037570           -0.037561   \n",
       "29           -0.041673           -0.041448           -0.041645   \n",
       "\n",
       "    split5_train_score  mean_train_score  std_train_score  \n",
       "25            0.062635          0.063105         0.000466  \n",
       "26            0.436583          0.437614         0.003027  \n",
       "27            0.403984          0.408408         0.007933  \n",
       "28           -0.038505         -0.038038         0.000544  \n",
       "29           -0.042226         -0.041969         0.000480  \n",
       "\n",
       "[5 rows x 24 columns]"
      ]
     },
     "execution_count": 555,
     "metadata": {},
     "output_type": "execute_result"
    }
   ],
   "source": [
    "result4=pd.DataFrame(svregrbf.cv_results_)\n",
    "result4.tail()"
   ]
  },
  {
   "cell_type": "code",
   "execution_count": 553,
   "metadata": {},
   "outputs": [
    {
     "name": "stdout",
     "output_type": "stream",
     "text": [
      "\n",
      "For C = 5000 \n",
      "For gamma = 0.001\n",
      "\n",
      "\t• Cross validation Training score mean:  0.4376143183670835\n",
      "\n",
      "\t• Cross validation Testing score mean:  0.43926358910296265\n",
      "\n",
      "\t• R2 Score:  0.44791528640183087\n",
      "\n",
      "\t• Root Mean Squared Error:  275312.1642766682\n",
      "----------------------------------------------------------------------------\n"
     ]
    }
   ],
   "source": [
    "y_preds = svregrbf.predict(X_test)\n",
    "print('\\nFor C =',result4['param_C'][svregrbf.best_index_],'\\nFor gamma =',result4['param_gamma'][svregrbf.best_index_])\n",
    "print('\\n\\t• Cross validation Training score mean: ',result4['mean_train_score'][svregrbf.best_index_])\n",
    "print('\\n\\t• Cross validation Testing score mean: ' ,svregrbf.best_score_)\n",
    "print('\\n\\t• R2 Score: ',r2_score(y_test,y_preds))\n",
    "print('\\n\\t• Root Mean Squared Error: ', np.sqrt(mean_squared_error(y_test, y_preds)))\n",
    "print('----------------------------------------------------------------------------')"
   ]
  },
  {
   "cell_type": "markdown",
   "metadata": {},
   "source": [
    "<div class=\"alert alert-block alert-success\">Let's visualize the best fitted line by the SVM RBF Model "
   ]
  },
  {
   "cell_type": "code",
   "execution_count": 594,
   "metadata": {},
   "outputs": [
    {
     "data": {
      "image/png": "[encoded data removed]",
      "text/plain": [
       "<Figure size 936x504 with 1 Axes>"
      ]
     },
     "metadata": {},
     "output_type": "display_data"
    }
   ],
   "source": [
    "X_b = X_train[:100,14].reshape(-1,1)\n",
    "y_b = y_train[:100]\n",
    "svregt = SVR(kernel='rbf',gamma=0.001,C=5000)\n",
    "svregt.fit(X_b, y_b)\n",
    "cm=pd.DataFrame({'x':X_test[:100,14].tolist(),'y':y_test[:100].tolist()}).sort_values(by='x')\n",
    "y_predict = svregt.predict(cm['x'].values.reshape(-1,1))\n",
    "plt.figure(figsize=(13,7))\n",
    "plt.plot(cm['x'].tolist(), y_predict, c = 'orangered',label='Predicted line')\n",
    "plt.scatter(cm['x'].tolist(), cm['y'].tolist(),label='Test Data points',c='slateblue')\n",
    "plt.title('\\nVisualization of the SVM Radial Bias Function model predictions\\n',fontsize=14)\n",
    "plt.xlabel('X feature (Test split)',fontsize=12)\n",
    "plt.ylabel('Y feature(Test & Predictions)',fontsize=12)\n",
    "plt.legend()\n",
    "plt.show()"
   ]
  },
  {
   "cell_type": "markdown",
   "metadata": {},
   "source": [
    "<div class=\"alert alert-block alert-danger\">\n",
    "\n",
    "From the above results we can see that the SVM RBF model yields the best results when `C = 5000` and `gamma = 0.001` which leads to the best R<sup>2</sup> score of `0.447915`. It indicates the chosen model does not follow the trend of the data.\n",
    "<div>"
   ]
  },
  {
   "cell_type": "markdown",
   "metadata": {},
   "source": [
    "<div class=\"alert alert-block alert-info\">\n",
    "<b><font size=\"4\">  SVM- Kernal (Polynomial) Regressor </font></b>"
   ]
  },
  {
   "cell_type": "code",
   "execution_count": 373,
   "metadata": {},
   "outputs": [],
   "source": [
    "from sklearn.svm import SVR"
   ]
  },
  {
   "cell_type": "code",
   "execution_count": 692,
   "metadata": {},
   "outputs": [
    {
     "data": {
      "text/plain": [
       "GridSearchCV(cv=6, error_score=nan,\n",
       "             estimator=SVR(C=1.0, cache_size=200, coef0=0.0, degree=3,\n",
       "                           epsilon=0.1, gamma='scale', kernel='poly',\n",
       "                           max_iter=-1, shrinking=True, tol=0.001,\n",
       "                           verbose=False),\n",
       "             iid='deprecated', n_jobs=-1,\n",
       "             param_grid={'C': [0.01, 1, 10, 100, 1000, 5000],\n",
       "                         'degree': [1, 3, 5]},\n",
       "             pre_dispatch='2*n_jobs', refit=True, return_train_score=True,\n",
       "             scoring=None, verbose=0)"
      ]
     },
     "execution_count": 692,
     "metadata": {},
     "output_type": "execute_result"
    }
   ],
   "source": [
    "np.random.seed(42)\n",
    "param_grids = {'C': [0.01,1,10,100,1000,5000],\n",
    "              'degree': [1,3,5]}\n",
    "svregpoly = GridSearchCV(SVR(kernel='poly'), param_grids ,return_train_score=True, cv=6, n_jobs=-1)\n",
    "svregpoly.fit(X_train, y_train)"
   ]
  },
  {
   "cell_type": "code",
   "execution_count": 694,
   "metadata": {},
   "outputs": [
    {
     "data": {
      "text/plain": [
       "0.6937128127710509"
      ]
     },
     "execution_count": 694,
     "metadata": {},
     "output_type": "execute_result"
    }
   ],
   "source": [
    "svregpoly.score(X_test, y_test)\n",
    "#R2 score"
   ]
  },
  {
   "cell_type": "code",
   "execution_count": 701,
   "metadata": {},
   "outputs": [
    {
     "name": "stdout",
     "output_type": "stream",
     "text": [
      "Best parameters: {'C': 5000, 'degree': 3}\n",
      "Best cross-validation score: 0.6530484011719506\n"
     ]
    }
   ],
   "source": [
    "print(f'Best parameters: {svregpoly.best_params_}')\n",
    "print(f'Best cross-validation score: {svregpoly.best_score_}')\n",
    "#Grid Search to find the best scaling parameter and mean testing score"
   ]
  },
  {
   "cell_type": "code",
   "execution_count": 702,
   "metadata": {},
   "outputs": [
    {
     "data": {
      "text/html": [
       "<div>\n",
       "<style scoped>\n",
       "    .dataframe tbody tr th:only-of-type {\n",
       "        vertical-align: middle;\n",
       "    }\n",
       "\n",
       "    .dataframe tbody tr th {\n",
       "        vertical-align: top;\n",
       "    }\n",
       "\n",
       "    .dataframe thead th {\n",
       "        text-align: right;\n",
       "    }\n",
       "</style>\n",
       "<table border=\"1\" class=\"dataframe\">\n",
       "  <thead>\n",
       "    <tr style=\"text-align: right;\">\n",
       "      <th></th>\n",
       "      <th>mean_fit_time</th>\n",
       "      <th>std_fit_time</th>\n",
       "      <th>mean_score_time</th>\n",
       "      <th>std_score_time</th>\n",
       "      <th>param_C</th>\n",
       "      <th>param_degree</th>\n",
       "      <th>params</th>\n",
       "      <th>split0_test_score</th>\n",
       "      <th>split1_test_score</th>\n",
       "      <th>split2_test_score</th>\n",
       "      <th>...</th>\n",
       "      <th>std_test_score</th>\n",
       "      <th>rank_test_score</th>\n",
       "      <th>split0_train_score</th>\n",
       "      <th>split1_train_score</th>\n",
       "      <th>split2_train_score</th>\n",
       "      <th>split3_train_score</th>\n",
       "      <th>split4_train_score</th>\n",
       "      <th>split5_train_score</th>\n",
       "      <th>mean_train_score</th>\n",
       "      <th>std_train_score</th>\n",
       "    </tr>\n",
       "  </thead>\n",
       "  <tbody>\n",
       "    <tr>\n",
       "      <th>13</th>\n",
       "      <td>8.621435</td>\n",
       "      <td>0.061242</td>\n",
       "      <td>0.919385</td>\n",
       "      <td>0.020306</td>\n",
       "      <td>1000</td>\n",
       "      <td>3</td>\n",
       "      <td>{'C': 1000, 'degree': 3}</td>\n",
       "      <td>0.622388</td>\n",
       "      <td>0.500920</td>\n",
       "      <td>0.475589</td>\n",
       "      <td>...</td>\n",
       "      <td>0.059891</td>\n",
       "      <td>4</td>\n",
       "      <td>0.608059</td>\n",
       "      <td>0.629729</td>\n",
       "      <td>0.607654</td>\n",
       "      <td>0.610571</td>\n",
       "      <td>0.621836</td>\n",
       "      <td>0.617462</td>\n",
       "      <td>0.615885</td>\n",
       "      <td>0.008029</td>\n",
       "    </tr>\n",
       "    <tr>\n",
       "      <th>14</th>\n",
       "      <td>14.368712</td>\n",
       "      <td>0.640892</td>\n",
       "      <td>0.953447</td>\n",
       "      <td>0.035078</td>\n",
       "      <td>1000</td>\n",
       "      <td>5</td>\n",
       "      <td>{'C': 1000, 'degree': 5}</td>\n",
       "      <td>0.179581</td>\n",
       "      <td>-2.355016</td>\n",
       "      <td>-7.910632</td>\n",
       "      <td>...</td>\n",
       "      <td>15.507381</td>\n",
       "      <td>17</td>\n",
       "      <td>0.558533</td>\n",
       "      <td>0.581982</td>\n",
       "      <td>0.558182</td>\n",
       "      <td>0.563139</td>\n",
       "      <td>0.578823</td>\n",
       "      <td>0.568591</td>\n",
       "      <td>0.568208</td>\n",
       "      <td>0.009331</td>\n",
       "    </tr>\n",
       "    <tr>\n",
       "      <th>15</th>\n",
       "      <td>7.828920</td>\n",
       "      <td>0.088410</td>\n",
       "      <td>0.903588</td>\n",
       "      <td>0.033247</td>\n",
       "      <td>5000</td>\n",
       "      <td>1</td>\n",
       "      <td>{'C': 5000, 'degree': 1}</td>\n",
       "      <td>0.608389</td>\n",
       "      <td>0.621442</td>\n",
       "      <td>0.632690</td>\n",
       "      <td>...</td>\n",
       "      <td>0.017073</td>\n",
       "      <td>2</td>\n",
       "      <td>0.634615</td>\n",
       "      <td>0.635548</td>\n",
       "      <td>0.630512</td>\n",
       "      <td>0.633416</td>\n",
       "      <td>0.625032</td>\n",
       "      <td>0.625697</td>\n",
       "      <td>0.630803</td>\n",
       "      <td>0.004150</td>\n",
       "    </tr>\n",
       "    <tr>\n",
       "      <th>16</th>\n",
       "      <td>9.418938</td>\n",
       "      <td>0.161377</td>\n",
       "      <td>0.919030</td>\n",
       "      <td>0.018701</td>\n",
       "      <td>5000</td>\n",
       "      <td>3</td>\n",
       "      <td>{'C': 5000, 'degree': 3}</td>\n",
       "      <td>0.678612</td>\n",
       "      <td>0.582514</td>\n",
       "      <td>0.684802</td>\n",
       "      <td>...</td>\n",
       "      <td>0.043427</td>\n",
       "      <td>1</td>\n",
       "      <td>0.690886</td>\n",
       "      <td>0.705392</td>\n",
       "      <td>0.688634</td>\n",
       "      <td>0.689954</td>\n",
       "      <td>0.697290</td>\n",
       "      <td>0.693293</td>\n",
       "      <td>0.694241</td>\n",
       "      <td>0.005710</td>\n",
       "    </tr>\n",
       "    <tr>\n",
       "      <th>17</th>\n",
       "      <td>24.330409</td>\n",
       "      <td>3.130030</td>\n",
       "      <td>0.826085</td>\n",
       "      <td>0.188013</td>\n",
       "      <td>5000</td>\n",
       "      <td>5</td>\n",
       "      <td>{'C': 5000, 'degree': 5}</td>\n",
       "      <td>-0.969490</td>\n",
       "      <td>-4.706230</td>\n",
       "      <td>-43.049966</td>\n",
       "      <td>...</td>\n",
       "      <td>24.900313</td>\n",
       "      <td>18</td>\n",
       "      <td>0.647131</td>\n",
       "      <td>0.669544</td>\n",
       "      <td>0.643866</td>\n",
       "      <td>0.647342</td>\n",
       "      <td>0.662675</td>\n",
       "      <td>0.651160</td>\n",
       "      <td>0.653620</td>\n",
       "      <td>0.009294</td>\n",
       "    </tr>\n",
       "  </tbody>\n",
       "</table>\n",
       "<p>5 rows × 24 columns</p>\n",
       "</div>"
      ],
      "text/plain": [
       "    mean_fit_time  std_fit_time  mean_score_time  std_score_time param_C  \\\n",
       "13       8.621435      0.061242         0.919385        0.020306    1000   \n",
       "14      14.368712      0.640892         0.953447        0.035078    1000   \n",
       "15       7.828920      0.088410         0.903588        0.033247    5000   \n",
       "16       9.418938      0.161377         0.919030        0.018701    5000   \n",
       "17      24.330409      3.130030         0.826085        0.188013    5000   \n",
       "\n",
       "   param_degree                    params  split0_test_score  \\\n",
       "13            3  {'C': 1000, 'degree': 3}           0.622388   \n",
       "14            5  {'C': 1000, 'degree': 5}           0.179581   \n",
       "15            1  {'C': 5000, 'degree': 1}           0.608389   \n",
       "16            3  {'C': 5000, 'degree': 3}           0.678612   \n",
       "17            5  {'C': 5000, 'degree': 5}          -0.969490   \n",
       "\n",
       "    split1_test_score  split2_test_score  ...  std_test_score  \\\n",
       "13           0.500920           0.475589  ...        0.059891   \n",
       "14          -2.355016          -7.910632  ...       15.507381   \n",
       "15           0.621442           0.632690  ...        0.017073   \n",
       "16           0.582514           0.684802  ...        0.043427   \n",
       "17          -4.706230         -43.049966  ...       24.900313   \n",
       "\n",
       "    rank_test_score  split0_train_score  split1_train_score  \\\n",
       "13                4            0.608059            0.629729   \n",
       "14               17            0.558533            0.581982   \n",
       "15                2            0.634615            0.635548   \n",
       "16                1            0.690886            0.705392   \n",
       "17               18            0.647131            0.669544   \n",
       "\n",
       "    split2_train_score  split3_train_score  split4_train_score  \\\n",
       "13            0.607654            0.610571            0.621836   \n",
       "14            0.558182            0.563139            0.578823   \n",
       "15            0.630512            0.633416            0.625032   \n",
       "16            0.688634            0.689954            0.697290   \n",
       "17            0.643866            0.647342            0.662675   \n",
       "\n",
       "    split5_train_score  mean_train_score  std_train_score  \n",
       "13            0.617462          0.615885         0.008029  \n",
       "14            0.568591          0.568208         0.009331  \n",
       "15            0.625697          0.630803         0.004150  \n",
       "16            0.693293          0.694241         0.005710  \n",
       "17            0.651160          0.653620         0.009294  \n",
       "\n",
       "[5 rows x 24 columns]"
      ]
     },
     "execution_count": 702,
     "metadata": {},
     "output_type": "execute_result"
    }
   ],
   "source": [
    "result5=pd.DataFrame(svregpoly.cv_results_)\n",
    "result5.tail()"
   ]
  },
  {
   "cell_type": "code",
   "execution_count": 706,
   "metadata": {},
   "outputs": [
    {
     "name": "stdout",
     "output_type": "stream",
     "text": [
      "\n",
      "For C = 5000 \n",
      "For degree = 3\n",
      "\n",
      "\t• Cross validation Training score mean:  0.6942412277822548\n",
      "\n",
      "\t• Cross validation Testing score mean:  0.6530484011719506\n",
      "\n",
      "\t• R2 Score:  0.6937128127710509\n",
      "\n",
      "\t• Root Mean Squared Error:  205062.83353155424\n",
      "----------------------------------------------------------------------------\n"
     ]
    }
   ],
   "source": [
    "y_prediction = svregpoly.predict(X_test)\n",
    "print('\\nFor C =',result5['param_C'][svregpoly.best_index_],'\\nFor degree =',result5['param_degree'][svregpoly.best_index_])\n",
    "print('\\n\\t• Cross validation Training score mean: ',result5['mean_train_score'][svregpoly.best_index_])\n",
    "print('\\n\\t• Cross validation Testing score mean: ' ,svregpoly.best_score_)\n",
    "print('\\n\\t• R2 Score: ',r2_score(y_test,y_prediction))\n",
    "print('\\n\\t• Root Mean Squared Error: ', np.sqrt(mean_squared_error(y_test, y_prediction)))\n",
    "print('----------------------------------------------------------------------------')"
   ]
  },
  {
   "cell_type": "markdown",
   "metadata": {},
   "source": [
    "<div class=\"alert alert-block alert-success\">Let's visualize the best fitted line by the SVM Polynomial Model "
   ]
  },
  {
   "cell_type": "code",
   "execution_count": 700,
   "metadata": {},
   "outputs": [
    {
     "data": {
      "image/png": "[encoded data removed]",
      "text/plain": [
       "<Figure size 936x504 with 1 Axes>"
      ]
     },
     "metadata": {},
     "output_type": "display_data"
    }
   ],
   "source": [
    "X_b = X_train[:100,14].reshape(-1,1)\n",
    "y_b = y_train[:100]\n",
    "svregt = SVR(kernel='poly',degree=3,C=5000)\n",
    "svregt.fit(X_b, y_b)\n",
    "cm=pd.DataFrame({'x':X_test[:100,14].tolist(),'y':y_test[:100].tolist()}).sort_values(by='x')\n",
    "y_predict = svregt.predict(cm['x'].values.reshape(-1,1))\n",
    "plt.figure(figsize=(13,7))\n",
    "plt.plot(cm['x'].tolist(), y_predict, c = 'orangered',label='Predicted line')\n",
    "plt.scatter(cm['x'].tolist(), cm['y'].tolist(),label='Test Data points',c='y')\n",
    "plt.title('\\nVisualization of the SVM Polynomial model predictions\\n',fontsize=14)\n",
    "plt.xlabel('X feature (Test split)',fontsize=12)\n",
    "plt.ylabel('Y feature(Test & Predictions)',fontsize=12)\n",
    "plt.legend()\n",
    "plt.show()"
   ]
  },
  {
   "cell_type": "markdown",
   "metadata": {},
   "source": [
    "<div class=\"alert alert-block alert-danger\">\n",
    "\n",
    "From the above results we can see that the SVM Polynomial model yields the best results when `C = 5000` and `degree = 3` which leads to the best R<sup>2</sup> score of `0.693712`. It indicates the chosen model does not follow the trend of the data.\n",
    "<div>"
   ]
  },
  {
   "cell_type": "markdown",
   "metadata": {},
   "source": [
    "<div class=\"alert alert-block alert-info\">\n",
    "<b><font size=\"4\">  SVM- Kernal (Linear) Regressor </font></b>"
   ]
  },
  {
   "cell_type": "code",
   "execution_count": 409,
   "metadata": {},
   "outputs": [],
   "source": [
    "from sklearn.svm import SVR"
   ]
  },
  {
   "cell_type": "code",
   "execution_count": 535,
   "metadata": {},
   "outputs": [
    {
     "data": {
      "text/plain": [
       "GridSearchCV(cv=6, error_score=nan,\n",
       "             estimator=SVR(C=1.0, cache_size=200, coef0=0.0, degree=3,\n",
       "                           epsilon=0.1, gamma='scale', kernel='linear',\n",
       "                           max_iter=-1, shrinking=True, tol=0.001,\n",
       "                           verbose=False),\n",
       "             iid='deprecated', n_jobs=-1,\n",
       "             param_grid={'C': [0.01, 0.1, 1, 10, 100, 1000, 5000]},\n",
       "             pre_dispatch='2*n_jobs', refit=True, return_train_score=True,\n",
       "             scoring=None, verbose=0)"
      ]
     },
     "execution_count": 535,
     "metadata": {},
     "output_type": "execute_result"
    }
   ],
   "source": [
    "np.random.seed(42)\n",
    "param_c = {'C': [0.01, 0.1, 1, 10, 100, 1000, 5000]}\n",
    "svreglinear = GridSearchCV(SVR(kernel='linear'), param_c ,return_train_score=True, cv=6, n_jobs=-1)\n",
    "svreglinear.fit(X_train, y_train)"
   ]
  },
  {
   "cell_type": "code",
   "execution_count": 537,
   "metadata": {},
   "outputs": [
    {
     "data": {
      "text/plain": [
       "0.6177104104597748"
      ]
     },
     "execution_count": 537,
     "metadata": {},
     "output_type": "execute_result"
    }
   ],
   "source": [
    "svreglinear.score(X_test, y_test)\n",
    "#R2 score"
   ]
  },
  {
   "cell_type": "code",
   "execution_count": 538,
   "metadata": {},
   "outputs": [
    {
     "name": "stdout",
     "output_type": "stream",
     "text": [
      "Best parameters: {'C': 5000}\n",
      "Best cross-validation score: 0.6397520870327963\n"
     ]
    }
   ],
   "source": [
    "print(f'Best parameters: {svreglinear.best_params_}')\n",
    "print(f'Best cross-validation score: {svreglinear.best_score_}')\n",
    "#Grid Search to find the best scaling parameter and mean testing score"
   ]
  },
  {
   "cell_type": "code",
   "execution_count": 539,
   "metadata": {},
   "outputs": [
    {
     "data": {
      "text/html": [
       "<div>\n",
       "<style scoped>\n",
       "    .dataframe tbody tr th:only-of-type {\n",
       "        vertical-align: middle;\n",
       "    }\n",
       "\n",
       "    .dataframe tbody tr th {\n",
       "        vertical-align: top;\n",
       "    }\n",
       "\n",
       "    .dataframe thead th {\n",
       "        text-align: right;\n",
       "    }\n",
       "</style>\n",
       "<table border=\"1\" class=\"dataframe\">\n",
       "  <thead>\n",
       "    <tr style=\"text-align: right;\">\n",
       "      <th></th>\n",
       "      <th>mean_fit_time</th>\n",
       "      <th>std_fit_time</th>\n",
       "      <th>mean_score_time</th>\n",
       "      <th>std_score_time</th>\n",
       "      <th>param_C</th>\n",
       "      <th>params</th>\n",
       "      <th>split0_test_score</th>\n",
       "      <th>split1_test_score</th>\n",
       "      <th>split2_test_score</th>\n",
       "      <th>split3_test_score</th>\n",
       "      <th>...</th>\n",
       "      <th>std_test_score</th>\n",
       "      <th>rank_test_score</th>\n",
       "      <th>split0_train_score</th>\n",
       "      <th>split1_train_score</th>\n",
       "      <th>split2_train_score</th>\n",
       "      <th>split3_train_score</th>\n",
       "      <th>split4_train_score</th>\n",
       "      <th>split5_train_score</th>\n",
       "      <th>mean_train_score</th>\n",
       "      <th>std_train_score</th>\n",
       "    </tr>\n",
       "  </thead>\n",
       "  <tbody>\n",
       "    <tr>\n",
       "      <th>2</th>\n",
       "      <td>11.686647</td>\n",
       "      <td>1.601248</td>\n",
       "      <td>1.304627</td>\n",
       "      <td>0.270372</td>\n",
       "      <td>1</td>\n",
       "      <td>{'C': 1}</td>\n",
       "      <td>0.063201</td>\n",
       "      <td>0.065105</td>\n",
       "      <td>0.061797</td>\n",
       "      <td>0.061402</td>\n",
       "      <td>...</td>\n",
       "      <td>0.007149</td>\n",
       "      <td>5</td>\n",
       "      <td>0.063992</td>\n",
       "      <td>0.064312</td>\n",
       "      <td>0.064269</td>\n",
       "      <td>0.064504</td>\n",
       "      <td>0.063303</td>\n",
       "      <td>0.063524</td>\n",
       "      <td>0.063984</td>\n",
       "      <td>0.000435</td>\n",
       "    </tr>\n",
       "    <tr>\n",
       "      <th>3</th>\n",
       "      <td>8.797368</td>\n",
       "      <td>0.305336</td>\n",
       "      <td>1.098569</td>\n",
       "      <td>0.110905</td>\n",
       "      <td>10</td>\n",
       "      <td>{'C': 10}</td>\n",
       "      <td>0.438452</td>\n",
       "      <td>0.467698</td>\n",
       "      <td>0.449423</td>\n",
       "      <td>0.434496</td>\n",
       "      <td>...</td>\n",
       "      <td>0.016131</td>\n",
       "      <td>4</td>\n",
       "      <td>0.456945</td>\n",
       "      <td>0.452570</td>\n",
       "      <td>0.454093</td>\n",
       "      <td>0.455194</td>\n",
       "      <td>0.450830</td>\n",
       "      <td>0.451536</td>\n",
       "      <td>0.453528</td>\n",
       "      <td>0.002119</td>\n",
       "    </tr>\n",
       "    <tr>\n",
       "      <th>4</th>\n",
       "      <td>9.196374</td>\n",
       "      <td>0.754628</td>\n",
       "      <td>0.924155</td>\n",
       "      <td>0.062354</td>\n",
       "      <td>100</td>\n",
       "      <td>{'C': 100}</td>\n",
       "      <td>0.592262</td>\n",
       "      <td>0.612865</td>\n",
       "      <td>0.616720</td>\n",
       "      <td>0.599676</td>\n",
       "      <td>...</td>\n",
       "      <td>0.016480</td>\n",
       "      <td>3</td>\n",
       "      <td>0.618667</td>\n",
       "      <td>0.617940</td>\n",
       "      <td>0.615251</td>\n",
       "      <td>0.616947</td>\n",
       "      <td>0.609119</td>\n",
       "      <td>0.609013</td>\n",
       "      <td>0.614490</td>\n",
       "      <td>0.003975</td>\n",
       "    </tr>\n",
       "    <tr>\n",
       "      <th>5</th>\n",
       "      <td>9.059948</td>\n",
       "      <td>1.148199</td>\n",
       "      <td>0.876367</td>\n",
       "      <td>0.043029</td>\n",
       "      <td>1000</td>\n",
       "      <td>{'C': 1000}</td>\n",
       "      <td>0.616341</td>\n",
       "      <td>0.623072</td>\n",
       "      <td>0.642846</td>\n",
       "      <td>0.624919</td>\n",
       "      <td>...</td>\n",
       "      <td>0.018173</td>\n",
       "      <td>2</td>\n",
       "      <td>0.641912</td>\n",
       "      <td>0.642880</td>\n",
       "      <td>0.638123</td>\n",
       "      <td>0.640620</td>\n",
       "      <td>0.633347</td>\n",
       "      <td>0.633420</td>\n",
       "      <td>0.638383</td>\n",
       "      <td>0.003824</td>\n",
       "    </tr>\n",
       "    <tr>\n",
       "      <th>6</th>\n",
       "      <td>8.611433</td>\n",
       "      <td>2.204699</td>\n",
       "      <td>0.728749</td>\n",
       "      <td>0.165553</td>\n",
       "      <td>5000</td>\n",
       "      <td>{'C': 5000}</td>\n",
       "      <td>0.619318</td>\n",
       "      <td>0.619867</td>\n",
       "      <td>0.645034</td>\n",
       "      <td>0.629353</td>\n",
       "      <td>...</td>\n",
       "      <td>0.018566</td>\n",
       "      <td>1</td>\n",
       "      <td>0.645634</td>\n",
       "      <td>0.647702</td>\n",
       "      <td>0.640208</td>\n",
       "      <td>0.644578</td>\n",
       "      <td>0.636108</td>\n",
       "      <td>0.634909</td>\n",
       "      <td>0.641523</td>\n",
       "      <td>0.004817</td>\n",
       "    </tr>\n",
       "  </tbody>\n",
       "</table>\n",
       "<p>5 rows × 23 columns</p>\n",
       "</div>"
      ],
      "text/plain": [
       "   mean_fit_time  std_fit_time  mean_score_time  std_score_time param_C  \\\n",
       "2      11.686647      1.601248         1.304627        0.270372       1   \n",
       "3       8.797368      0.305336         1.098569        0.110905      10   \n",
       "4       9.196374      0.754628         0.924155        0.062354     100   \n",
       "5       9.059948      1.148199         0.876367        0.043029    1000   \n",
       "6       8.611433      2.204699         0.728749        0.165553    5000   \n",
       "\n",
       "        params  split0_test_score  split1_test_score  split2_test_score  \\\n",
       "2     {'C': 1}           0.063201           0.065105           0.061797   \n",
       "3    {'C': 10}           0.438452           0.467698           0.449423   \n",
       "4   {'C': 100}           0.592262           0.612865           0.616720   \n",
       "5  {'C': 1000}           0.616341           0.623072           0.642846   \n",
       "6  {'C': 5000}           0.619318           0.619867           0.645034   \n",
       "\n",
       "   split3_test_score  ...  std_test_score  rank_test_score  \\\n",
       "2           0.061402  ...        0.007149                5   \n",
       "3           0.434496  ...        0.016131                4   \n",
       "4           0.599676  ...        0.016480                3   \n",
       "5           0.624919  ...        0.018173                2   \n",
       "6           0.629353  ...        0.018566                1   \n",
       "\n",
       "   split0_train_score  split1_train_score  split2_train_score  \\\n",
       "2            0.063992            0.064312            0.064269   \n",
       "3            0.456945            0.452570            0.454093   \n",
       "4            0.618667            0.617940            0.615251   \n",
       "5            0.641912            0.642880            0.638123   \n",
       "6            0.645634            0.647702            0.640208   \n",
       "\n",
       "   split3_train_score  split4_train_score  split5_train_score  \\\n",
       "2            0.064504            0.063303            0.063524   \n",
       "3            0.455194            0.450830            0.451536   \n",
       "4            0.616947            0.609119            0.609013   \n",
       "5            0.640620            0.633347            0.633420   \n",
       "6            0.644578            0.636108            0.634909   \n",
       "\n",
       "   mean_train_score  std_train_score  \n",
       "2          0.063984         0.000435  \n",
       "3          0.453528         0.002119  \n",
       "4          0.614490         0.003975  \n",
       "5          0.638383         0.003824  \n",
       "6          0.641523         0.004817  \n",
       "\n",
       "[5 rows x 23 columns]"
      ]
     },
     "execution_count": 539,
     "metadata": {},
     "output_type": "execute_result"
    }
   ],
   "source": [
    "result6=pd.DataFrame(svreglinear.cv_results_)\n",
    "result6.tail()"
   ]
  },
  {
   "cell_type": "code",
   "execution_count": 540,
   "metadata": {},
   "outputs": [
    {
     "name": "stdout",
     "output_type": "stream",
     "text": [
      "\n",
      "For C = 5000\n",
      "\n",
      "\t• Cross validation Training score mean:  0.6415231883936268\n",
      "\n",
      "\t• Cross validation Testing score mean:  0.6397520870327963\n",
      "\n",
      "\t• R2 Score:  0.6177104104597748\n",
      "\n",
      "\t• Root Mean Squared Error:  229096.66919967582\n",
      "----------------------------------------------------------------------------\n"
     ]
    }
   ],
   "source": [
    "y_predictions = svreglinear.predict(X_test)\n",
    "print('\\nFor C =',result6['param_C'][svreglinear.best_index_])\n",
    "print('\\n\\t• Cross validation Training score mean: ',result6['mean_train_score'][svreglinear.best_index_])\n",
    "print('\\n\\t• Cross validation Testing score mean: ' ,svreglinear.best_score_)\n",
    "print('\\n\\t• R2 Score: ',r2_score(y_test,y_predictions))\n",
    "print('\\n\\t• Root Mean Squared Error: ', np.sqrt(mean_squared_error(y_test, y_predictions)))\n",
    "print('----------------------------------------------------------------------------')"
   ]
  },
  {
   "cell_type": "markdown",
   "metadata": {},
   "source": [
    "<div class=\"alert alert-block alert-success\">Let's visualize the best fitted line by the SVM Linear Model "
   ]
  },
  {
   "cell_type": "code",
   "execution_count": 595,
   "metadata": {},
   "outputs": [
    {
     "data": {
      "image/png": "[encoded data removed]",
      "text/plain": [
       "<Figure size 936x504 with 1 Axes>"
      ]
     },
     "metadata": {},
     "output_type": "display_data"
    }
   ],
   "source": [
    "X_b = X_train[:100,14].reshape(-1,1)\n",
    "y_b = y_train[:100]\n",
    "svregt = SVR(kernel='linear',C=5000)\n",
    "svregt.fit(X_b, y_b)\n",
    "cm=pd.DataFrame({'x':X_test[:100,14].tolist(),'y':y_test[:100].tolist()}).sort_values(by='x')\n",
    "y_predict = svregt.predict(cm['x'].values.reshape(-1,1))\n",
    "plt.figure(figsize=(13,7))\n",
    "plt.plot(cm['x'].tolist(), y_predict, c = 'k',label='Predicted line')\n",
    "plt.scatter(cm['x'].tolist(), cm['y'].tolist(),label='Test Data points',c='g')\n",
    "plt.title('\\nVisualization of the SVM Linear model predictions\\n',fontsize=14)\n",
    "plt.xlabel('X feature (Test split)',fontsize=12)\n",
    "plt.ylabel('Y feature(Test & Predictions)',fontsize=12)\n",
    "plt.legend()\n",
    "plt.show()"
   ]
  },
  {
   "cell_type": "markdown",
   "metadata": {},
   "source": [
    "<div class=\"alert alert-block alert-danger\">\n",
    "\n",
    "From the above results we can see that the SVM RBF model yields the best results when `C = 5000` which leads to the best R<sup>2</sup> score of `0.617710`.\n",
    "<div>"
   ]
  },
  {
   "cell_type": "markdown",
   "metadata": {},
   "source": [
    "<div class=\"alert alert-info\" role=\"alert\">\n",
    "<b><font size=\"4\">  Model Selection: </font></b>\n",
    "    \n",
    "Compare all the above models' performance    \n",
    "</div>"
   ]
  },
  {
   "cell_type": "code",
   "execution_count": 7,
   "metadata": {},
   "outputs": [
    {
     "name": "stdout",
     "output_type": "stream",
     "text": [
      "\n",
      "\n",
      " Metrics Summary of all Models(sorted based on R2 score):\n"
     ]
    },
    {
     "data": {
      "text/html": [
       "<div>\n",
       "<style scoped>\n",
       "    .dataframe tbody tr th:only-of-type {\n",
       "        vertical-align: middle;\n",
       "    }\n",
       "\n",
       "    .dataframe tbody tr th {\n",
       "        vertical-align: top;\n",
       "    }\n",
       "\n",
       "    .dataframe thead th {\n",
       "        text-align: right;\n",
       "    }\n",
       "</style>\n",
       "<table border=\"1\" class=\"dataframe\">\n",
       "  <thead>\n",
       "    <tr style=\"text-align: right;\">\n",
       "      <th></th>\n",
       "      <th>R2 Score</th>\n",
       "      <th>RMSE</th>\n",
       "      <th>Optimal Parameter</th>\n",
       "    </tr>\n",
       "  </thead>\n",
       "  <tbody>\n",
       "    <tr>\n",
       "      <th>Polynomial Regression</th>\n",
       "      <td>0.812826</td>\n",
       "      <td>160304</td>\n",
       "      <td>degree = 2</td>\n",
       "    </tr>\n",
       "    <tr>\n",
       "      <th>KNN Regressor</th>\n",
       "      <td>0.778513</td>\n",
       "      <td>174379</td>\n",
       "      <td>n-neighbors = 7</td>\n",
       "    </tr>\n",
       "    <tr>\n",
       "      <th>SVM- Kernal (Poly) Regressor</th>\n",
       "      <td>0.693712</td>\n",
       "      <td>205062</td>\n",
       "      <td>C = 5000, degree = 3</td>\n",
       "    </tr>\n",
       "    <tr>\n",
       "      <th>Simple Linear Regression</th>\n",
       "      <td>0.669379</td>\n",
       "      <td>213052</td>\n",
       "      <td>None</td>\n",
       "    </tr>\n",
       "    <tr>\n",
       "      <th>Lasso Regression</th>\n",
       "      <td>0.669352</td>\n",
       "      <td>213061</td>\n",
       "      <td>alpha = 80</td>\n",
       "    </tr>\n",
       "    <tr>\n",
       "      <th>Ridge Regression</th>\n",
       "      <td>0.669072</td>\n",
       "      <td>213151</td>\n",
       "      <td>alpha = 120</td>\n",
       "    </tr>\n",
       "    <tr>\n",
       "      <th>SVM- Kernal (Linear) Regressor</th>\n",
       "      <td>0.617710</td>\n",
       "      <td>229096</td>\n",
       "      <td>C = 5000</td>\n",
       "    </tr>\n",
       "    <tr>\n",
       "      <th>Linear Support Vector Regressor</th>\n",
       "      <td>0.616850</td>\n",
       "      <td>229354</td>\n",
       "      <td>C = 8450</td>\n",
       "    </tr>\n",
       "    <tr>\n",
       "      <th>SVM- Kernal (RBF) Regressor</th>\n",
       "      <td>0.447915</td>\n",
       "      <td>275312</td>\n",
       "      <td>C = 5000, gamma = 0.001</td>\n",
       "    </tr>\n",
       "  </tbody>\n",
       "</table>\n",
       "</div>"
      ],
      "text/plain": [
       "                                 R2 Score    RMSE        Optimal Parameter\n",
       "Polynomial Regression            0.812826  160304               degree = 2\n",
       "KNN Regressor                    0.778513  174379          n-neighbors = 7\n",
       "SVM- Kernal (Poly) Regressor     0.693712  205062     C = 5000, degree = 3\n",
       "Simple Linear Regression         0.669379  213052                     None\n",
       "Lasso Regression                 0.669352  213061               alpha = 80\n",
       "Ridge Regression                 0.669072  213151              alpha = 120\n",
       "SVM- Kernal (Linear) Regressor   0.617710  229096                 C = 5000\n",
       "Linear Support Vector Regressor  0.616850  229354                 C = 8450\n",
       "SVM- Kernal (RBF) Regressor      0.447915  275312  C = 5000, gamma = 0.001"
      ]
     },
     "metadata": {},
     "output_type": "display_data"
    }
   ],
   "source": [
    "dict={'R2 Score':[0.778513,0.669379,0.669072,0.669352,0.812826,0.616850,0.447915,0.693712,0.617710],\n",
    "      'RMSE':[174379,213052,213151,213061,160304,229354,275312,205062,229096],\n",
    "      'Optimal Parameter':[\"n-neighbors = 7\",\"None\", \"alpha = 120\",\"alpha = 80\", \"degree = 2\",\"C = 8450\",\"C = 5000, gamma = 0.001\",\"C = 5000, degree = 3\",\"C = 5000\"]}\n",
    "model_results= pd.DataFrame(dict,index=['KNN Regressor','Simple Linear Regression','Ridge Regression','Lasso Regression', \n",
    "                                        'Polynomial Regression', 'Linear Support Vector Regressor', 'SVM- Kernal (RBF) Regressor', \n",
    "                                        'SVM- Kernal (Poly) Regressor','SVM- Kernal (Linear) Regressor'])\n",
    "print('\\n\\n Metrics Summary of all Models(sorted based on R2 score):')\n",
    "display(model_results.sort_values(by=['R2 Score'],ascending=False))"
   ]
  },
  {
   "cell_type": "markdown",
   "metadata": {},
   "source": [
    "<div class=\"alert alert-block alert-warning\">\n",
    "<b><font size=\"4\"> Based on the metrics, polynomial regression is the best model among all.</font></b>\n",
    "    \n",
    "Below is the final results that we use to predict the target values for the test set:\n",
    "</div>"
   ]
  },
  {
   "cell_type": "code",
   "execution_count": 704,
   "metadata": {},
   "outputs": [
    {
     "name": "stdout",
     "output_type": "stream",
     "text": [
      "For degree = 2\n",
      "\n",
      "\tTraining score: 0.821133\n",
      "\n",
      "\tTesting score: 0.812826\n",
      "\n",
      "\tPolynomial Linear Regression Metrics:\n",
      "\n",
      "\t• Mean Squared Error: 25697467885.739185 \n",
      "\n",
      "\t• Root Mean Squared Error: 160304.297777 \n",
      "\n",
      "\t• R2 Score: 0.812826\n"
     ]
    }
   ],
   "source": [
    "np.random.seed(42)\n",
    "poly = PolynomialFeatures(degree = 2)\n",
    "\n",
    "X_train_poly = poly.fit_transform(X_train)  \n",
    "X_test_poly = poly.transform(X_test)\n",
    "print('For degree = 2')\n",
    "lnreg = LinearRegression()\n",
    "lnreg.fit(X_train_poly, y_train)\n",
    "\n",
    "y_pred = lnreg.predict(X_test_poly)\n",
    "\n",
    "print(f'\\n\\tTraining score: {lnreg.score(X_train_poly, y_train):0.6f}')\n",
    "print(f'\\n\\tTesting score: {lnreg.score(X_test_poly, y_test):0.6f}')\n",
    "print(f'\\n\\tPolynomial Linear Regression Metrics:\\n\\n\\t• Mean Squared Error: {(mean_squared_error(y_test, y_pred)):0.6f} \\n\\n\\t• Root Mean Squared Error: {np.sqrt(mean_squared_error(y_test, y_pred)):0.6f} \\n\\n\\t• R2 Score: {r2_score(y_test,y_pred):0.6f}')"
   ]
  },
  {
   "cell_type": "code",
   "execution_count": 9,
   "metadata": {},
   "outputs": [],
   "source": [
    "model_results.to_csv(\"project1_result_table.csv\")"
   ]
  },
  {
   "cell_type": "code",
   "execution_count": null,
   "metadata": {},
   "outputs": [],
   "source": []
  }
 ],
 "metadata": {
  "kernelspec": {
   "display_name": "Python 3",
   "language": "python",
   "name": "python3"
  },
  "language_info": {
   "codemirror_mode": {
    "name": "ipython",
    "version": 3
   },
   "file_extension": ".py",
   "mimetype": "text/x-python",
   "name": "python",
   "nbconvert_exporter": "python",
   "pygments_lexer": "ipython3",
   "version": "3.7.2rc1"
  }
 },
 "nbformat": 4,
 "nbformat_minor": 4
}
